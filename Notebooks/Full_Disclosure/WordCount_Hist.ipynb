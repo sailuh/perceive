{
 "cells": [
  {
   "cell_type": "code",
   "execution_count": 9,
   "metadata": {
    "collapsed": true
   },
   "outputs": [],
   "source": [
    "#import the libraries\n",
    "import pandas as pd\n",
    "import glob\n",
    "import os\n",
    "from bokeh.charts import Histogram, output_file, show"
   ]
  },
  {
   "cell_type": "code",
   "execution_count": 10,
   "metadata": {
    "collapsed": false
   },
   "outputs": [],
   "source": [
    "#Input year for which the word count histogram is being plotted\n",
    "year='2002'\n",
    "#Directory with the files\n",
    "path = 'data/input/bodymessage_corpus/'+year\n",
    "\n",
    "file_name_list=[]\n",
    "file_wc_list=[]\n",
    "file_wc_df = pd.DataFrame(columns = [\"file_name\",\"word_count\"])\n",
    "\n",
    "#function that returns the word count for all the documents in a list\n",
    "def doc_wordcnt(path_file_name, file_name):\n",
    "    #use open() for opening file.\n",
    "    with open(path_file_name) as f:\n",
    "        #create a list of all words fetched from the file using a list comprehension\n",
    "        words = [word for line in f for word in line.split()]        \n",
    "        #append the file name and the word count to a list\n",
    "        file_name_list.append(file_name)\n",
    "        file_wc_list.append(len(words))\n",
    "\n",
    "\n",
    "#loop within the directory to get all the file names\n",
    "for filename in os.listdir(path):\n",
    "    #get the word count for every file\n",
    "    doc_wordcnt(path+'/'+filename, filename)\n",
    "    \n",
    "#populate the column of the dataframe using the values populated in the list\n",
    "file_wc_df[\"file_name\"] = file_name_list\n",
    "file_wc_df[\"word_count\"] = file_wc_list"
   ]
  },
  {
   "cell_type": "code",
   "execution_count": 25,
   "metadata": {
    "collapsed": false
   },
   "outputs": [
    {
     "name": "stdout",
     "output_type": "stream",
     "text": [
      "File name : 2002_Aug_767.txt , Maximum (word count) : 11037\n",
      "File name : 2002_Aug_107.txt , Minimum (word count) : 0\n"
     ]
    }
   ],
   "source": [
    "print \"File name :\", file_wc_df.file_name[file_wc_df['word_count'].idxmax()], \", Maximum (word count) :\", file_wc_df.word_count[file_wc_df['word_count'].idxmax()]\n",
    "print \"File name :\", file_wc_df.file_name[file_wc_df['word_count'].idxmin()], \", Minimum (word count) :\", file_wc_df.word_count[file_wc_df['word_count'].idxmin()]"
   ]
  },
  {
   "cell_type": "code",
   "execution_count": 13,
   "metadata": {
    "collapsed": false
   },
   "outputs": [
    {
     "name": "stderr",
     "output_type": "stream",
     "text": [
      "INFO:bokeh.core.state:Session output file 'wc_hist.html' already exists, will be overwritten.\n"
     ]
    }
   ],
   "source": [
    "#plot the histogram based on values in the dataframe\n",
    "p = Histogram(file_wc_df, values='word_count', bins=5,\n",
    "              title=\"Word Count Histogram\")\n",
    "\n",
    "output_file(\"wc_hist.html\")\n",
    "\n",
    "show(p)"
   ]
  }
 ],
 "metadata": {
  "kernelspec": {
   "display_name": "Python 2",
   "language": "python",
   "name": "python2"
  },
  "language_info": {
   "codemirror_mode": {
    "name": "ipython",
    "version": 2
   },
   "file_extension": ".py",
   "mimetype": "text/x-python",
   "name": "python",
   "nbconvert_exporter": "python",
   "pygments_lexer": "ipython2",
   "version": "2.7.13"
  }
 },
 "nbformat": 4,
 "nbformat_minor": 2
}
