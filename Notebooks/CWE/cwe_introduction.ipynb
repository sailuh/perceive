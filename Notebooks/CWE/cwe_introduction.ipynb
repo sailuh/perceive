{
 "cells": [
  {
   "cell_type": "markdown",
   "metadata": {
    "deletable": true,
    "editable": true
   },
   "source": [
    "# Introduction"
   ]
  },
  {
   "cell_type": "markdown",
   "metadata": {
    "deletable": true,
    "editable": true
   },
   "source": [
    "The number and severity of cyber-attacks has been increasing at an alarming rate. Currently software security reacts to attacks, trying to minimize damage after it has already occurred. The inherit delay in a reactive approach will inevitably result in larger-than-necessary losses. To prevent or minimize such losses, a proactive approach to security is needed. This proactive approach is the basis of PERCEIVE. By being able to identify potential attacks before they can cause harm, we will be able to finally turn the tide and stop being on the defensive.\n",
    "\n",
    "Many weaknesses in software are known, and are publicly indexed, but this information is not reaching decision makers. MITRE’s databases—CVE for vulnerabilities, CWE for weaknesses, and CAPEC for attack patterns—hold these past concepts.\n",
    "\n",
    "While the data in these databases was rich, it was loosely structured and high in volume. My portion of this project was to understand the structure and contents of the CWE database so that we could create a more easily understood and analyzable corpus. A corpus is a collection of writing that through machine learning, will be used to compare known concepts (CWEs) to emerging concepts in hacker discussion groups.  To aid in determining similarity between our indexed concepts and emerging concepts, we need to understand the specificity, subject, time and purpose of each concept that we index. By analyzing emerging concepts in this manner, we can direct the attention of software developers, managers, and decision-makers so that they can proactively fix the security weaknesses in an economic and time efficient way.\n",
    "\n",
    "In order to create this corpus, we must understand the ways in which the aformentioned indexes are organized. This purpose of this notebook is to record and document the way that the CWE database functions. The version of CWE used for the data analytics in this notebook in 2.9. "
   ]
  },
  {
   "cell_type": "markdown",
   "metadata": {
    "deletable": true,
    "editable": true
   },
   "source": [
    "# Structure"
   ]
  },
  {
   "cell_type": "markdown",
   "metadata": {
    "deletable": true,
    "editable": true
   },
   "source": [
    "   The data in CWE is organized in two seperate ways. The first part of this section will deal with the structure and formating of the XML section. XML is language designed to carry information and XML uses fields to hold the information. Manually reading XML data and trying to comprehend how it is strucutured is definitely made easier by using an external program such as XML explorer. The objective of this notebook was to determine which fields would be useful for the corpus. The raw XML data can be downloaded at https://cwe.mitre.org/data/. The version used for this notebook is 2.9. "
   ]
  },
  {
   "cell_type": "code",
   "execution_count": 37,
   "metadata": {
    "collapsed": false,
    "deletable": true,
    "editable": true,
    "scrolled": false
   },
   "outputs": [
    {
     "name": "stdout",
     "output_type": "stream",
     "text": [
      "Views\n",
      "Categories\n",
      "Weaknesses\n",
      "Compound_Elements\n"
     ]
    }
   ],
   "source": [
    "import lxml.etree\n",
    "tree = lxml.etree.parse('cwec_v2.9.xml')\n",
    "root = tree.getroot()\n",
    "for table in root: \n",
    "    print (table.tag)"
   ]
  },
  {
   "cell_type": "markdown",
   "metadata": {
    "deletable": true,
    "editable": true
   },
   "source": [
    "There are four main tables in the XML. They are <b>Views</b>, <b>Categories</b>, <b>Weaknesses</b>, and <b>Coumpound_Elements</b>. In the XML the contents of these main categories is messy, however, on the website these main tables follow a strict hierarchy. The four main fields contain the entries related to that category. The meaning of the categories will be explained in a later section. For example, the **Weakness** main table contains all weakness while the **Views** main table contains all of the views. The individual entries contain the ID number of that entry, the name, and the status. The status refers to whether the entry is a draft, incomplete, etc. Each entry contains the various fields that are contained in said entry. A field is a container that contains a specific type of information."
   ]
  },
  {
   "cell_type": "markdown",
   "metadata": {
    "deletable": true,
    "editable": true
   },
   "source": [
    "Below is a graphical representation of the XML structure. The important thing to note is that there are hundreds of entries under the main table. The graphic only shows one in order to maximize clarity. The number of entries per main table varies depending on the main table. The **Categories** and **Weaknesses** main table contain the most entries while **Views** and **Compound_Elements** contain the fewest."
   ]
  },
  {
   "cell_type": "markdown",
   "metadata": {
    "collapsed": false,
    "deletable": true,
    "editable": true,
    "scrolled": true
   },
   "source": [
    "<img src=\"images/CWE_Map.png\">"
   ]
  },
  {
   "cell_type": "markdown",
   "metadata": {
    "deletable": true,
    "editable": true
   },
   "source": [
    "Visualizing the XML data is a headache, however the data for the website is significantly more structured. The four main tables from the XML return, however this time they are organized in a strict hierarchy. There are two <b>Views</b> and they are always at the top of the hierarchy. Every <b>Category</b>, <b>Weakness</b>, and <b>Compound_Element</b> is a \"MemberOf\" one or both of these two views. <b>Weaknesses</b> are further broken down into three levels. <b>Weakness Class</b> is the top level. <b>Weakness Classes</b> contain descriptions of weaknesses that are very abstract and is the most general of the three <b>Weaknesses</b>. <b>Weakness Bases</b> are the middle ground and contain details on detection and prevention. <b>Weakness Variants</b> are the most specific and are typically limited to a specific language or technology. <b>Categories</b> simply contain entries that share common characteristics. <b> Compound Elements</b> can either be composites or chains as of CWE 2.9. However it is stated that this can change as necessary. \n",
    "    "
   ]
  },
  {
   "cell_type": "markdown",
   "metadata": {
    "deletable": true,
    "editable": true
   },
   "source": [
    "The hierarcy functions as follows. The two <b>Views</b> are the apex of the hierarchy. Every <b>Weakness</b> or <b>Category</b> directly contained within one or both <b>Views</b> is refered as a \"MemberOf\". This is unique. All <b>Weaknesses</b> <b>Classes</b> and <b>Compound Elements</b> are contained within these views, however not all of them are directly contained within them. For those contained in other <b>Weaknesses</b> they are considered to be the \"ChildOf\" while their holder is considered the \"ParentOf\". Any member of the hierachy can be a \"ParentOf\" any member that is below it or of the same rank. Conversely any member of the hierarcy can be a \"ChildOf\" any member that is above it or the same rank. The exception to this rule is that a <b>Category</b> can be the \"ParentOf\" a <b>Weakness Class</b> yet is the \"ChildOf\" a <b>Weakness Base</b> at least once.   <a href=\"https://cwe.mitre.org/data/definitions/60.html\"> See CWE ID 60 </a>."
   ]
  },
  {
   "cell_type": "markdown",
   "metadata": {
    "collapsed": false,
    "deletable": true,
    "editable": true
   },
   "source": [
    "<img src=\"images/CWE_Fields.png\">"
   ]
  },
  {
   "cell_type": "markdown",
   "metadata": {
    "deletable": true,
    "editable": true
   },
   "source": [
    "# Counting the Weakness Fields"
   ]
  },
  {
   "cell_type": "markdown",
   "metadata": {
    "deletable": true,
    "editable": true
   },
   "source": [
    "Each weakness contains multiple fields. These fields in turn contain information regarding that weakness. The type of information contained within these fields depends on the type of field. Each type of field has a predetermined format and a specificed topic and type of content. We need to determine which fields will be most useful for the program and direct the programs attention to those fields. The fields that will be useful not only have to contain useful information, but also occur frequently enough to be used regularly. The goal of the scripts below is to determine which fields occur frequently enough to be used. "
   ]
  },
  {
   "cell_type": "markdown",
   "metadata": {
    "deletable": true,
    "editable": true
   },
   "source": [
    "The scripts below record all of the fields in the weaknesses. "
   ]
  },
  {
   "cell_type": "code",
   "execution_count": 38,
   "metadata": {
    "collapsed": false,
    "deletable": true,
    "editable": true
   },
   "outputs": [
    {
     "name": "stdout",
     "output_type": "stream",
     "text": [
      "Description\n",
      "Relationships\n",
      "Weakness_Ordinalities\n",
      "Applicable_Platforms\n",
      "Time_of_Introduction\n",
      "Common_Consequences\n",
      "Potential_Mitigations\n",
      "Causal_Nature\n",
      "Demonstrative_Examples\n",
      "Taxonomy_Mappings\n",
      "Content_History\n"
     ]
    }
   ],
   "source": [
    "weakness_table = root[2]\n",
    "for row in weakness_table[0]: \n",
    "    print (row.tag)"
   ]
  },
  {
   "cell_type": "code",
   "execution_count": 39,
   "metadata": {
    "collapsed": false,
    "deletable": true,
    "editable": true
   },
   "outputs": [
    {
     "name": "stdout",
     "output_type": "stream",
     "text": [
      "Description\n",
      "Relationships\n",
      "Relationship_Notes\n",
      "Weakness_Ordinalities\n",
      "Applicable_Platforms\n",
      "Alternate_Terms\n",
      "Terminology_Notes\n",
      "Time_of_Introduction\n",
      "Likelihood_of_Exploit\n",
      "Common_Consequences\n",
      "Detection_Methods\n",
      "Potential_Mitigations\n",
      "Causal_Nature\n",
      "Demonstrative_Examples\n",
      "Observed_Examples\n",
      "Functional_Areas\n",
      "Affected_Resources\n",
      "References\n",
      "Taxonomy_Mappings\n",
      "White_Box_Definitions\n",
      "Related_Attack_Patterns\n",
      "Content_History\n"
     ]
    }
   ],
   "source": [
    "for row in weakness_table[20]: \n",
    "    print (row.tag)"
   ]
  },
  {
   "cell_type": "markdown",
   "metadata": {
    "deletable": true,
    "editable": true
   },
   "source": [
    "Now that we have a list of all of the fields, we can count to see how many times they are used. "
   ]
  },
  {
   "cell_type": "code",
   "execution_count": 40,
   "metadata": {
    "collapsed": false,
    "deletable": true,
    "editable": true
   },
   "outputs": [
    {
     "name": "stdout",
     "output_type": "stream",
     "text": [
      "{'Maintenance_Notes': 86, 'Likelihood_of_Exploit': 184, 'Common_Consequences': 701, 'Taxonomy_Mappings': 597, 'Weakness_Ordinalities': 130, 'Modes_of_Introduction': 32, 'White_Box_Definitions': 29, 'Detection_Methods': 76, 'Research_Gaps': 74, 'Related_Attack_Patterns': 206, 'Enabling_Factors_for_Exploitation': 22, 'Affected_Resources': 50, 'Alternate_Terms': 65, 'Potential_Mitigations': 523, 'Relationships': 705, 'Time_of_Introduction': 664, 'Terminology_Notes': 26, 'Causal_Nature': 74, 'Relationship_Notes': 122, 'Description': 718, 'Relevant_Properties': 15, 'Background_Details': 41, 'Applicable_Platforms': 556, 'Theoretical_Notes': 26, 'Observed_Examples': 357, 'Demonstrative_Examples': 385, 'Functional_Areas': 27, 'Content_History': 718, 'Other_Notes': 23, 'References': 281}\n"
     ]
    }
   ],
   "source": [
    "histogram = {}\n",
    "for row in weakness_table: \n",
    "    for column in row: \n",
    "        if column.tag not in histogram: \n",
    "            histogram[column.tag] = 0\n",
    "        else:\n",
    "            histogram[column.tag] += 1\n",
    "print (histogram)"
   ]
  },
  {
   "cell_type": "markdown",
   "metadata": {
    "deletable": true,
    "editable": true
   },
   "source": [
    "Finally in order to make it easier to read, we create a histogram. "
   ]
  },
  {
   "cell_type": "code",
   "execution_count": 41,
   "metadata": {
    "collapsed": false,
    "deletable": true,
    "editable": true
   },
   "outputs": [
    {
     "data": {
      "text/html": [
       "\n",
       "    <div class=\"bk-root\">\n",
       "        <a href=\"http://bokeh.pydata.org\" target=\"_blank\" class=\"bk-logo bk-logo-small bk-logo-notebook\"></a>\n",
       "        <span id=\"ebb6dac7-3899-48f7-9007-f0bd0ed1b8be\">Loading BokehJS ...</span>\n",
       "    </div>"
      ]
     },
     "metadata": {},
     "output_type": "display_data"
    },
    {
     "data": {
      "application/javascript": [
       "\n",
       "(function(global) {\n",
       "  function now() {\n",
       "    return new Date();\n",
       "  }\n",
       "\n",
       "  var force = true;\n",
       "\n",
       "  if (typeof (window._bokeh_onload_callbacks) === \"undefined\" || force === true) {\n",
       "    window._bokeh_onload_callbacks = [];\n",
       "    window._bokeh_is_loading = undefined;\n",
       "  }\n",
       "\n",
       "\n",
       "  \n",
       "  if (typeof (window._bokeh_timeout) === \"undefined\" || force === true) {\n",
       "    window._bokeh_timeout = Date.now() + 5000;\n",
       "    window._bokeh_failed_load = false;\n",
       "  }\n",
       "\n",
       "  var NB_LOAD_WARNING = {'data': {'text/html':\n",
       "     \"<div style='background-color: #fdd'>\\n\"+\n",
       "     \"<p>\\n\"+\n",
       "     \"BokehJS does not appear to have successfully loaded. If loading BokehJS from CDN, this \\n\"+\n",
       "     \"may be due to a slow or bad network connection. Possible fixes:\\n\"+\n",
       "     \"</p>\\n\"+\n",
       "     \"<ul>\\n\"+\n",
       "     \"<li>re-rerun `output_notebook()` to attempt to load from CDN again, or</li>\\n\"+\n",
       "     \"<li>use INLINE resources instead, as so:</li>\\n\"+\n",
       "     \"</ul>\\n\"+\n",
       "     \"<code>\\n\"+\n",
       "     \"from bokeh.resources import INLINE\\n\"+\n",
       "     \"output_notebook(resources=INLINE)\\n\"+\n",
       "     \"</code>\\n\"+\n",
       "     \"</div>\"}};\n",
       "\n",
       "  function display_loaded() {\n",
       "    if (window.Bokeh !== undefined) {\n",
       "      document.getElementById(\"ebb6dac7-3899-48f7-9007-f0bd0ed1b8be\").textContent = \"BokehJS successfully loaded.\";\n",
       "    } else if (Date.now() < window._bokeh_timeout) {\n",
       "      setTimeout(display_loaded, 100)\n",
       "    }\n",
       "  }\n",
       "\n",
       "  function run_callbacks() {\n",
       "    window._bokeh_onload_callbacks.forEach(function(callback) { callback() });\n",
       "    delete window._bokeh_onload_callbacks\n",
       "    console.info(\"Bokeh: all callbacks have finished\");\n",
       "  }\n",
       "\n",
       "  function load_libs(js_urls, callback) {\n",
       "    window._bokeh_onload_callbacks.push(callback);\n",
       "    if (window._bokeh_is_loading > 0) {\n",
       "      console.log(\"Bokeh: BokehJS is being loaded, scheduling callback at\", now());\n",
       "      return null;\n",
       "    }\n",
       "    if (js_urls == null || js_urls.length === 0) {\n",
       "      run_callbacks();\n",
       "      return null;\n",
       "    }\n",
       "    console.log(\"Bokeh: BokehJS not loaded, scheduling load and callback at\", now());\n",
       "    window._bokeh_is_loading = js_urls.length;\n",
       "    for (var i = 0; i < js_urls.length; i++) {\n",
       "      var url = js_urls[i];\n",
       "      var s = document.createElement('script');\n",
       "      s.src = url;\n",
       "      s.async = false;\n",
       "      s.onreadystatechange = s.onload = function() {\n",
       "        window._bokeh_is_loading--;\n",
       "        if (window._bokeh_is_loading === 0) {\n",
       "          console.log(\"Bokeh: all BokehJS libraries loaded\");\n",
       "          run_callbacks()\n",
       "        }\n",
       "      };\n",
       "      s.onerror = function() {\n",
       "        console.warn(\"failed to load library \" + url);\n",
       "      };\n",
       "      console.log(\"Bokeh: injecting script tag for BokehJS library: \", url);\n",
       "      document.getElementsByTagName(\"head\")[0].appendChild(s);\n",
       "    }\n",
       "  };var element = document.getElementById(\"ebb6dac7-3899-48f7-9007-f0bd0ed1b8be\");\n",
       "  if (element == null) {\n",
       "    console.log(\"Bokeh: ERROR: autoload.js configured with elementid 'ebb6dac7-3899-48f7-9007-f0bd0ed1b8be' but no matching script tag was found. \")\n",
       "    return false;\n",
       "  }\n",
       "\n",
       "  var js_urls = [\"https://cdn.pydata.org/bokeh/release/bokeh-0.12.4.min.js\", \"https://cdn.pydata.org/bokeh/release/bokeh-widgets-0.12.4.min.js\"];\n",
       "\n",
       "  var inline_js = [\n",
       "    function(Bokeh) {\n",
       "      Bokeh.set_log_level(\"info\");\n",
       "    },\n",
       "    \n",
       "    function(Bokeh) {\n",
       "      \n",
       "      document.getElementById(\"ebb6dac7-3899-48f7-9007-f0bd0ed1b8be\").textContent = \"BokehJS is loading...\";\n",
       "    },\n",
       "    function(Bokeh) {\n",
       "      console.log(\"Bokeh: injecting CSS: https://cdn.pydata.org/bokeh/release/bokeh-0.12.4.min.css\");\n",
       "      Bokeh.embed.inject_css(\"https://cdn.pydata.org/bokeh/release/bokeh-0.12.4.min.css\");\n",
       "      console.log(\"Bokeh: injecting CSS: https://cdn.pydata.org/bokeh/release/bokeh-widgets-0.12.4.min.css\");\n",
       "      Bokeh.embed.inject_css(\"https://cdn.pydata.org/bokeh/release/bokeh-widgets-0.12.4.min.css\");\n",
       "    }\n",
       "  ];\n",
       "\n",
       "  function run_inline_js() {\n",
       "    \n",
       "    if ((window.Bokeh !== undefined) || (force === true)) {\n",
       "      for (var i = 0; i < inline_js.length; i++) {\n",
       "        inline_js[i](window.Bokeh);\n",
       "      }if (force === true) {\n",
       "        display_loaded();\n",
       "      }} else if (Date.now() < window._bokeh_timeout) {\n",
       "      setTimeout(run_inline_js, 100);\n",
       "    } else if (!window._bokeh_failed_load) {\n",
       "      console.log(\"Bokeh: BokehJS failed to load within specified timeout.\");\n",
       "      window._bokeh_failed_load = true;\n",
       "    } else if (force !== true) {\n",
       "      var cell = $(document.getElementById(\"ebb6dac7-3899-48f7-9007-f0bd0ed1b8be\")).parents('.cell').data().cell;\n",
       "      cell.output_area.append_execute_result(NB_LOAD_WARNING)\n",
       "    }\n",
       "\n",
       "  }\n",
       "\n",
       "  if (window._bokeh_is_loading === 0) {\n",
       "    console.log(\"Bokeh: BokehJS loaded, going straight to plotting\");\n",
       "    run_inline_js();\n",
       "  } else {\n",
       "    load_libs(js_urls, function() {\n",
       "      console.log(\"Bokeh: BokehJS plotting callback run at\", now());\n",
       "      run_inline_js();\n",
       "    });\n",
       "  }\n",
       "}(this));"
      ]
     },
     "metadata": {},
     "output_type": "display_data"
    }
   ],
   "source": [
    "import numpy as np\n",
    "import pandas as pd\n",
    "from bokeh.plotting import figure, show\n",
    "from bokeh.models import Range1d\n",
    "from bokeh.io import output_notebook\n",
    "output_notebook() #So plots\n",
    "\n",
    "data = {}\n",
    "data['Entries'] = histogram\n",
    "\n",
    "df_data = pd.DataFrame(data).sort_values(by='Entries', ascending=True)\n",
    "series = df_data.loc[:,'Entries']\n",
    "\n",
    "p = figure(width=800, y_range=series.index.tolist(), title=\"Weaknesses Histogram\")\n",
    "\n",
    "p.xaxis.axis_label = 'Frequency'\n",
    "p.xaxis.axis_label_text_font_size = '10pt'\n",
    "p.xaxis.major_label_text_font_size = '8pt'\n",
    "\n",
    "p.yaxis.axis_label = 'Field'\n",
    "p.yaxis.axis_label_text_font_size = '10pt'\n",
    "p.yaxis.major_label_text_font_size = '8pt'\n",
    "\n",
    "j = 1\n",
    "for k,v in series.iteritems():\n",
    "  \n",
    "  #Print fields, values, orders\n",
    "  #print (k,v,j) \n",
    "  p.rect(x=v/2, y=j, width=abs(v), height=0.4,\n",
    "    width_units=\"data\", height_units=\"data\")\n",
    "  j += 1"
   ]
  },
  {
   "cell_type": "code",
   "execution_count": 42,
   "metadata": {
    "collapsed": false,
    "deletable": true,
    "editable": true
   },
   "outputs": [
    {
     "data": {
      "text/html": [
       "\n",
       "\n",
       "    <div class=\"bk-root\">\n",
       "        <div class=\"bk-plotdiv\" id=\"0bd41e11-b476-467f-b60e-b58e05e04d1c\"></div>\n",
       "    </div>\n",
       "<script type=\"text/javascript\">\n",
       "  \n",
       "  (function(global) {\n",
       "    function now() {\n",
       "      return new Date();\n",
       "    }\n",
       "  \n",
       "    var force = false;\n",
       "  \n",
       "    if (typeof (window._bokeh_onload_callbacks) === \"undefined\" || force === true) {\n",
       "      window._bokeh_onload_callbacks = [];\n",
       "      window._bokeh_is_loading = undefined;\n",
       "    }\n",
       "  \n",
       "  \n",
       "    \n",
       "    if (typeof (window._bokeh_timeout) === \"undefined\" || force === true) {\n",
       "      window._bokeh_timeout = Date.now() + 0;\n",
       "      window._bokeh_failed_load = false;\n",
       "    }\n",
       "  \n",
       "    var NB_LOAD_WARNING = {'data': {'text/html':\n",
       "       \"<div style='background-color: #fdd'>\\n\"+\n",
       "       \"<p>\\n\"+\n",
       "       \"BokehJS does not appear to have successfully loaded. If loading BokehJS from CDN, this \\n\"+\n",
       "       \"may be due to a slow or bad network connection. Possible fixes:\\n\"+\n",
       "       \"</p>\\n\"+\n",
       "       \"<ul>\\n\"+\n",
       "       \"<li>re-rerun `output_notebook()` to attempt to load from CDN again, or</li>\\n\"+\n",
       "       \"<li>use INLINE resources instead, as so:</li>\\n\"+\n",
       "       \"</ul>\\n\"+\n",
       "       \"<code>\\n\"+\n",
       "       \"from bokeh.resources import INLINE\\n\"+\n",
       "       \"output_notebook(resources=INLINE)\\n\"+\n",
       "       \"</code>\\n\"+\n",
       "       \"</div>\"}};\n",
       "  \n",
       "    function display_loaded() {\n",
       "      if (window.Bokeh !== undefined) {\n",
       "        document.getElementById(\"0bd41e11-b476-467f-b60e-b58e05e04d1c\").textContent = \"BokehJS successfully loaded.\";\n",
       "      } else if (Date.now() < window._bokeh_timeout) {\n",
       "        setTimeout(display_loaded, 100)\n",
       "      }\n",
       "    }\n",
       "  \n",
       "    function run_callbacks() {\n",
       "      window._bokeh_onload_callbacks.forEach(function(callback) { callback() });\n",
       "      delete window._bokeh_onload_callbacks\n",
       "      console.info(\"Bokeh: all callbacks have finished\");\n",
       "    }\n",
       "  \n",
       "    function load_libs(js_urls, callback) {\n",
       "      window._bokeh_onload_callbacks.push(callback);\n",
       "      if (window._bokeh_is_loading > 0) {\n",
       "        console.log(\"Bokeh: BokehJS is being loaded, scheduling callback at\", now());\n",
       "        return null;\n",
       "      }\n",
       "      if (js_urls == null || js_urls.length === 0) {\n",
       "        run_callbacks();\n",
       "        return null;\n",
       "      }\n",
       "      console.log(\"Bokeh: BokehJS not loaded, scheduling load and callback at\", now());\n",
       "      window._bokeh_is_loading = js_urls.length;\n",
       "      for (var i = 0; i < js_urls.length; i++) {\n",
       "        var url = js_urls[i];\n",
       "        var s = document.createElement('script');\n",
       "        s.src = url;\n",
       "        s.async = false;\n",
       "        s.onreadystatechange = s.onload = function() {\n",
       "          window._bokeh_is_loading--;\n",
       "          if (window._bokeh_is_loading === 0) {\n",
       "            console.log(\"Bokeh: all BokehJS libraries loaded\");\n",
       "            run_callbacks()\n",
       "          }\n",
       "        };\n",
       "        s.onerror = function() {\n",
       "          console.warn(\"failed to load library \" + url);\n",
       "        };\n",
       "        console.log(\"Bokeh: injecting script tag for BokehJS library: \", url);\n",
       "        document.getElementsByTagName(\"head\")[0].appendChild(s);\n",
       "      }\n",
       "    };var element = document.getElementById(\"0bd41e11-b476-467f-b60e-b58e05e04d1c\");\n",
       "    if (element == null) {\n",
       "      console.log(\"Bokeh: ERROR: autoload.js configured with elementid '0bd41e11-b476-467f-b60e-b58e05e04d1c' but no matching script tag was found. \")\n",
       "      return false;\n",
       "    }\n",
       "  \n",
       "    var js_urls = [];\n",
       "  \n",
       "    var inline_js = [\n",
       "      function(Bokeh) {\n",
       "        (function() {\n",
       "          var fn = function() {\n",
       "            var docs_json = {\"38155f19-d714-496e-9125-d81c8f088c4d\":{\"roots\":{\"references\":[{\"attributes\":{\"fill_color\":{\"value\":\"#1f77b4\"},\"height\":{\"units\":\"data\",\"value\":0.4},\"line_color\":{\"value\":\"#1f77b4\"},\"width\":{\"units\":\"data\",\"value\":50},\"x\":{\"value\":25.0},\"y\":{\"value\":10}},\"id\":\"79f2a166-63bd-4ead-905f-7fac8e855226\",\"type\":\"Rect\"},{\"attributes\":{\"fill_alpha\":{\"value\":0.1},\"fill_color\":{\"value\":\"#1f77b4\"},\"height\":{\"units\":\"data\",\"value\":0.4},\"line_alpha\":{\"value\":0.1},\"line_color\":{\"value\":\"#1f77b4\"},\"width\":{\"units\":\"data\",\"value\":26},\"x\":{\"value\":13.0},\"y\":{\"value\":4}},\"id\":\"b82ebb72-70dc-4eb7-b2fa-f94366580126\",\"type\":\"Rect\"},{\"attributes\":{\"callback\":null},\"id\":\"03fd381a-aeec-452e-9b5b-2f44b97b2e26\",\"type\":\"ColumnDataSource\"},{\"attributes\":{\"fill_color\":{\"value\":\"#1f77b4\"},\"height\":{\"units\":\"data\",\"value\":0.4},\"line_color\":{\"value\":\"#1f77b4\"},\"width\":{\"units\":\"data\",\"value\":701},\"x\":{\"value\":350.5},\"y\":{\"value\":27}},\"id\":\"563f171f-90e8-4f61-8d8b-e2d1f4af714e\",\"type\":\"Rect\"},{\"attributes\":{\"data_source\":{\"id\":\"c1028679-182a-4dea-a448-e4d270243e88\",\"type\":\"ColumnDataSource\"},\"glyph\":{\"id\":\"79f2a166-63bd-4ead-905f-7fac8e855226\",\"type\":\"Rect\"},\"hover_glyph\":null,\"nonselection_glyph\":{\"id\":\"ae1cad2a-a13e-4f57-a50a-1ab8ff944cb5\",\"type\":\"Rect\"},\"selection_glyph\":null},\"id\":\"e95ef305-96a8-49d7-a2c8-079dd09a733d\",\"type\":\"GlyphRenderer\"},{\"attributes\":{\"plot\":{\"id\":\"5ca7d4f8-c341-4821-8668-44ae708a6b94\",\"subtype\":\"Figure\",\"type\":\"Plot\"}},\"id\":\"2b959fe1-40c3-4a1d-83a2-7938599f8b7a\",\"type\":\"WheelZoomTool\"},{\"attributes\":{\"fill_alpha\":{\"value\":0.1},\"fill_color\":{\"value\":\"#1f77b4\"},\"height\":{\"units\":\"data\",\"value\":0.4},\"line_alpha\":{\"value\":0.1},\"line_color\":{\"value\":\"#1f77b4\"},\"width\":{\"units\":\"data\",\"value\":50},\"x\":{\"value\":25.0},\"y\":{\"value\":10}},\"id\":\"ae1cad2a-a13e-4f57-a50a-1ab8ff944cb5\",\"type\":\"Rect\"},{\"attributes\":{},\"id\":\"829c9766-8f9e-41e9-bebb-afcabd85224d\",\"type\":\"BasicTickFormatter\"},{\"attributes\":{\"data_source\":{\"id\":\"fc1b5c52-5d7e-46d9-8788-1ec5a65e5979\",\"type\":\"ColumnDataSource\"},\"glyph\":{\"id\":\"a24457ba-fcf8-475c-bf60-af118fea35dd\",\"type\":\"Rect\"},\"hover_glyph\":null,\"nonselection_glyph\":{\"id\":\"a0ce600f-5a64-4558-a10f-fecc8f0919ff\",\"type\":\"Rect\"},\"selection_glyph\":null},\"id\":\"b6200a57-ee74-4ce7-9108-24322b529d27\",\"type\":\"GlyphRenderer\"},{\"attributes\":{\"fill_color\":{\"value\":\"#1f77b4\"},\"height\":{\"units\":\"data\",\"value\":0.4},\"line_color\":{\"value\":\"#1f77b4\"},\"width\":{\"units\":\"data\",\"value\":29},\"x\":{\"value\":14.5},\"y\":{\"value\":7}},\"id\":\"52d82c60-353f-4a64-b044-ccf568d5bc8b\",\"type\":\"Rect\"},{\"attributes\":{\"fill_alpha\":{\"value\":0.1},\"fill_color\":{\"value\":\"#1f77b4\"},\"height\":{\"units\":\"data\",\"value\":0.4},\"line_alpha\":{\"value\":0.1},\"line_color\":{\"value\":\"#1f77b4\"},\"width\":{\"units\":\"data\",\"value\":65},\"x\":{\"value\":32.5},\"y\":{\"value\":11}},\"id\":\"917ef8e8-fd6e-4f48-97c9-dfa25e42b79a\",\"type\":\"Rect\"},{\"attributes\":{\"fill_alpha\":{\"value\":0.1},\"fill_color\":{\"value\":\"#1f77b4\"},\"height\":{\"units\":\"data\",\"value\":0.4},\"line_alpha\":{\"value\":0.1},\"line_color\":{\"value\":\"#1f77b4\"},\"width\":{\"units\":\"data\",\"value\":718},\"x\":{\"value\":359.0},\"y\":{\"value\":29}},\"id\":\"b3d2d908-5810-4141-bf66-69538aa9bedb\",\"type\":\"Rect\"},{\"attributes\":{\"fill_alpha\":{\"value\":0.1},\"fill_color\":{\"value\":\"#1f77b4\"},\"height\":{\"units\":\"data\",\"value\":0.4},\"line_alpha\":{\"value\":0.1},\"line_color\":{\"value\":\"#1f77b4\"},\"width\":{\"units\":\"data\",\"value\":281},\"x\":{\"value\":140.5},\"y\":{\"value\":20}},\"id\":\"b0df2b19-927b-43bb-bd41-e368777fc093\",\"type\":\"Rect\"},{\"attributes\":{\"data_source\":{\"id\":\"ac58d53c-5570-4c20-8c6b-6f6f56c2d5a7\",\"type\":\"ColumnDataSource\"},\"glyph\":{\"id\":\"2c86b93c-7c74-4e84-84cb-9f0a9cbf135b\",\"type\":\"Rect\"},\"hover_glyph\":null,\"nonselection_glyph\":{\"id\":\"25e2d475-ebf1-4e3c-ad16-26480909538f\",\"type\":\"Rect\"},\"selection_glyph\":null},\"id\":\"9cb43dc3-b232-4256-9443-a7ed41c02fc6\",\"type\":\"GlyphRenderer\"},{\"attributes\":{\"data_source\":{\"id\":\"987307f6-37ab-4608-8da6-d4a34ba05ccf\",\"type\":\"ColumnDataSource\"},\"glyph\":{\"id\":\"9b62b79c-4ee6-4cda-b3e4-25654223dee5\",\"type\":\"Rect\"},\"hover_glyph\":null,\"nonselection_glyph\":{\"id\":\"8e81d097-b982-43b7-b1bb-2e3d4d6abaf7\",\"type\":\"Rect\"},\"selection_glyph\":null},\"id\":\"40f122ed-c2b8-464d-9413-8907efa4ce36\",\"type\":\"GlyphRenderer\"},{\"attributes\":{\"callback\":null},\"id\":\"0857d452-b88b-40e9-9b01-f805e8195c58\",\"type\":\"ColumnDataSource\"},{\"attributes\":{\"callback\":null},\"id\":\"e731ccaf-b804-494f-b7a5-727ddc21c396\",\"type\":\"ColumnDataSource\"},{\"attributes\":{\"fill_alpha\":{\"value\":0.1},\"fill_color\":{\"value\":\"#1f77b4\"},\"height\":{\"units\":\"data\",\"value\":0.4},\"line_alpha\":{\"value\":0.1},\"line_color\":{\"value\":\"#1f77b4\"},\"width\":{\"units\":\"data\",\"value\":664},\"x\":{\"value\":332.0},\"y\":{\"value\":26}},\"id\":\"59a00d6c-666a-4b35-b680-6e37e5c5e95f\",\"type\":\"Rect\"},{\"attributes\":{\"data_source\":{\"id\":\"545ebe4b-7607-4a2c-bd86-1ace31c51925\",\"type\":\"ColumnDataSource\"},\"glyph\":{\"id\":\"563f171f-90e8-4f61-8d8b-e2d1f4af714e\",\"type\":\"Rect\"},\"hover_glyph\":null,\"nonselection_glyph\":{\"id\":\"61bcb6ce-f275-487e-87fe-4bc010fc89f0\",\"type\":\"Rect\"},\"selection_glyph\":null},\"id\":\"927f8009-9fc5-43bc-b441-7f029f93f13f\",\"type\":\"GlyphRenderer\"},{\"attributes\":{\"fill_alpha\":{\"value\":0.1},\"fill_color\":{\"value\":\"#1f77b4\"},\"height\":{\"units\":\"data\",\"value\":0.4},\"line_alpha\":{\"value\":0.1},\"line_color\":{\"value\":\"#1f77b4\"},\"width\":{\"units\":\"data\",\"value\":206},\"x\":{\"value\":103.0},\"y\":{\"value\":19}},\"id\":\"096b66d1-7291-4602-99ec-21ac8813e42e\",\"type\":\"Rect\"},{\"attributes\":{\"data_source\":{\"id\":\"11604d48-70ec-4a06-9d53-6a6e6c0ce87f\",\"type\":\"ColumnDataSource\"},\"glyph\":{\"id\":\"e80ba1dd-425b-4f5c-be0d-ab5786d7ee4d\",\"type\":\"Rect\"},\"hover_glyph\":null,\"nonselection_glyph\":{\"id\":\"cd73244e-87e5-47b9-803d-bb4268bda3fd\",\"type\":\"Rect\"},\"selection_glyph\":null},\"id\":\"06840998-951a-4785-87d5-6f634c63a2b1\",\"type\":\"GlyphRenderer\"},{\"attributes\":{\"callback\":null},\"id\":\"f55fe310-b564-4ddb-b121-a7eaca667d68\",\"type\":\"ColumnDataSource\"},{\"attributes\":{\"plot\":null,\"text\":\"Weaknesses Histogram\"},\"id\":\"26779b8e-09c9-4ad3-bf59-547d65f04e2f\",\"type\":\"Title\"},{\"attributes\":{\"plot\":{\"id\":\"5ca7d4f8-c341-4821-8668-44ae708a6b94\",\"subtype\":\"Figure\",\"type\":\"Plot\"}},\"id\":\"42762a8e-3446-4e6a-a569-d12b5ced276c\",\"type\":\"SaveTool\"},{\"attributes\":{\"fill_alpha\":{\"value\":0.1},\"fill_color\":{\"value\":\"#1f77b4\"},\"height\":{\"units\":\"data\",\"value\":0.4},\"line_alpha\":{\"value\":0.1},\"line_color\":{\"value\":\"#1f77b4\"},\"width\":{\"units\":\"data\",\"value\":523},\"x\":{\"value\":261.5},\"y\":{\"value\":23}},\"id\":\"25e2d475-ebf1-4e3c-ad16-26480909538f\",\"type\":\"Rect\"},{\"attributes\":{\"fill_color\":{\"value\":\"#1f77b4\"},\"height\":{\"units\":\"data\",\"value\":0.4},\"line_color\":{\"value\":\"#1f77b4\"},\"width\":{\"units\":\"data\",\"value\":523},\"x\":{\"value\":261.5},\"y\":{\"value\":23}},\"id\":\"2c86b93c-7c74-4e84-84cb-9f0a9cbf135b\",\"type\":\"Rect\"},{\"attributes\":{\"below\":[{\"id\":\"7f681d34-bb85-4151-84de-b71ee60aed08\",\"type\":\"LinearAxis\"}],\"left\":[{\"id\":\"0b4cb432-ce9e-4ec7-8ba1-f450c816f50e\",\"type\":\"CategoricalAxis\"}],\"plot_width\":800,\"renderers\":[{\"id\":\"7f681d34-bb85-4151-84de-b71ee60aed08\",\"type\":\"LinearAxis\"},{\"id\":\"02fec1e6-b7b9-4928-8411-495fd600187f\",\"type\":\"Grid\"},{\"id\":\"0b4cb432-ce9e-4ec7-8ba1-f450c816f50e\",\"type\":\"CategoricalAxis\"},{\"id\":\"806a5fab-3f4e-4fc6-bc8b-5b831a9b9e85\",\"type\":\"Grid\"},{\"id\":\"be86915e-014a-4826-8a2f-d2f103d88be5\",\"type\":\"BoxAnnotation\"},{\"id\":\"20c285c6-ed00-4a6b-8769-c18771c3949d\",\"type\":\"GlyphRenderer\"},{\"id\":\"40f122ed-c2b8-464d-9413-8907efa4ce36\",\"type\":\"GlyphRenderer\"},{\"id\":\"b6200a57-ee74-4ce7-9108-24322b529d27\",\"type\":\"GlyphRenderer\"},{\"id\":\"ac47cada-add4-47d2-b1d0-91d31685dc0a\",\"type\":\"GlyphRenderer\"},{\"id\":\"9f112476-4827-4e14-8e6a-3212b321a9b2\",\"type\":\"GlyphRenderer\"},{\"id\":\"fc74d951-57ef-45be-9dc4-9e45cae6f26b\",\"type\":\"GlyphRenderer\"},{\"id\":\"c149407c-3cc3-41fd-9207-92f7922914a6\",\"type\":\"GlyphRenderer\"},{\"id\":\"c6f1357e-2799-40bd-b067-e61a2ff3ef97\",\"type\":\"GlyphRenderer\"},{\"id\":\"e9776828-46b0-42aa-a2fc-12d1331e6c1c\",\"type\":\"GlyphRenderer\"},{\"id\":\"e95ef305-96a8-49d7-a2c8-079dd09a733d\",\"type\":\"GlyphRenderer\"},{\"id\":\"adad04c5-711d-45ef-8feb-13ec14d2d90d\",\"type\":\"GlyphRenderer\"},{\"id\":\"f2eede44-c3a4-441d-9cee-b59a9fdb2091\",\"type\":\"GlyphRenderer\"},{\"id\":\"c1dcdb7d-ba51-40de-8b74-7e0c9178672e\",\"type\":\"GlyphRenderer\"},{\"id\":\"7ee26d40-31a5-4078-917b-22167ac0d93e\",\"type\":\"GlyphRenderer\"},{\"id\":\"7acd8d4a-1cbb-4036-82f8-adb086c12131\",\"type\":\"GlyphRenderer\"},{\"id\":\"3d07dc69-7320-434c-b7eb-a953c0283859\",\"type\":\"GlyphRenderer\"},{\"id\":\"f4dc269e-b45d-4384-aec0-b117a90467e5\",\"type\":\"GlyphRenderer\"},{\"id\":\"d8679f63-3457-4c7d-a294-638416a361e2\",\"type\":\"GlyphRenderer\"},{\"id\":\"c4b7be7c-0c93-432c-b1c2-c98eab31be27\",\"type\":\"GlyphRenderer\"},{\"id\":\"bef5ff92-ebb4-4bf0-b2c6-b87507c6a2d6\",\"type\":\"GlyphRenderer\"},{\"id\":\"7d75afb1-e05f-49a4-9330-830122c83b4e\",\"type\":\"GlyphRenderer\"},{\"id\":\"18c4e113-865a-4d0a-8153-706d0a64ca88\",\"type\":\"GlyphRenderer\"},{\"id\":\"9cb43dc3-b232-4256-9443-a7ed41c02fc6\",\"type\":\"GlyphRenderer\"},{\"id\":\"06840998-951a-4785-87d5-6f634c63a2b1\",\"type\":\"GlyphRenderer\"},{\"id\":\"f7fcfa94-7c29-49e2-a07c-ed5afb930c07\",\"type\":\"GlyphRenderer\"},{\"id\":\"e8bc673c-9fc5-44d4-939a-39221dd23464\",\"type\":\"GlyphRenderer\"},{\"id\":\"927f8009-9fc5-43bc-b441-7f029f93f13f\",\"type\":\"GlyphRenderer\"},{\"id\":\"078cb089-b7b2-41b4-957c-4aa890625f48\",\"type\":\"GlyphRenderer\"},{\"id\":\"f3705d0a-2d42-4753-b020-dbfe34ecce72\",\"type\":\"GlyphRenderer\"},{\"id\":\"06fe3b51-bac5-4940-bb8b-8b475c3c76a8\",\"type\":\"GlyphRenderer\"}],\"title\":{\"id\":\"26779b8e-09c9-4ad3-bf59-547d65f04e2f\",\"type\":\"Title\"},\"tool_events\":{\"id\":\"214cc115-e53c-4e37-912c-043772b945e7\",\"type\":\"ToolEvents\"},\"toolbar\":{\"id\":\"f2a6a7f3-932f-49dc-9042-b0c672571231\",\"type\":\"Toolbar\"},\"x_range\":{\"id\":\"2178c0d5-6f84-4e28-8115-d1284bea326b\",\"type\":\"DataRange1d\"},\"y_range\":{\"id\":\"4c19dfdd-93c1-40b7-9d26-9d0a364c9f71\",\"type\":\"FactorRange\"}},\"id\":\"5ca7d4f8-c341-4821-8668-44ae708a6b94\",\"subtype\":\"Figure\",\"type\":\"Plot\"},{\"attributes\":{\"data_source\":{\"id\":\"e731ccaf-b804-494f-b7a5-727ddc21c396\",\"type\":\"ColumnDataSource\"},\"glyph\":{\"id\":\"52d82c60-353f-4a64-b044-ccf568d5bc8b\",\"type\":\"Rect\"},\"hover_glyph\":null,\"nonselection_glyph\":{\"id\":\"2f244dac-9082-48b3-8095-7561797eb1c1\",\"type\":\"Rect\"},\"selection_glyph\":null},\"id\":\"c149407c-3cc3-41fd-9207-92f7922914a6\",\"type\":\"GlyphRenderer\"},{\"attributes\":{\"fill_alpha\":{\"value\":0.1},\"fill_color\":{\"value\":\"#1f77b4\"},\"height\":{\"units\":\"data\",\"value\":0.4},\"line_alpha\":{\"value\":0.1},\"line_color\":{\"value\":\"#1f77b4\"},\"width\":{\"units\":\"data\",\"value\":130},\"x\":{\"value\":65.0},\"y\":{\"value\":17}},\"id\":\"1312bdb6-393f-494e-8531-4d26563957ff\",\"type\":\"Rect\"},{\"attributes\":{\"callback\":null},\"id\":\"3be69358-c629-4d39-811c-b69bfe8b8cd5\",\"type\":\"ColumnDataSource\"},{\"attributes\":{\"fill_color\":{\"value\":\"#1f77b4\"},\"height\":{\"units\":\"data\",\"value\":0.4},\"line_color\":{\"value\":\"#1f77b4\"},\"width\":{\"units\":\"data\",\"value\":23},\"x\":{\"value\":11.5},\"y\":{\"value\":3}},\"id\":\"a24457ba-fcf8-475c-bf60-af118fea35dd\",\"type\":\"Rect\"},{\"attributes\":{\"fill_color\":{\"value\":\"#1f77b4\"},\"height\":{\"units\":\"data\",\"value\":0.4},\"line_color\":{\"value\":\"#1f77b4\"},\"width\":{\"units\":\"data\",\"value\":65},\"x\":{\"value\":32.5},\"y\":{\"value\":11}},\"id\":\"a9e02792-ef5f-4e99-9f97-2da803030452\",\"type\":\"Rect\"},{\"attributes\":{\"callback\":null},\"id\":\"c913d674-8256-43ba-abf5-0829a963da4e\",\"type\":\"ColumnDataSource\"},{\"attributes\":{\"data_source\":{\"id\":\"f55fe310-b564-4ddb-b121-a7eaca667d68\",\"type\":\"ColumnDataSource\"},\"glyph\":{\"id\":\"f35ee609-d99e-4c3c-b7b8-b87ebadb87ea\",\"type\":\"Rect\"},\"hover_glyph\":null,\"nonselection_glyph\":{\"id\":\"b82ebb72-70dc-4eb7-b2fa-f94366580126\",\"type\":\"Rect\"},\"selection_glyph\":null},\"id\":\"ac47cada-add4-47d2-b1d0-91d31685dc0a\",\"type\":\"GlyphRenderer\"},{\"attributes\":{},\"id\":\"47e103e5-3e69-4392-a53c-727d77d15423\",\"type\":\"CategoricalTickFormatter\"},{\"attributes\":{\"data_source\":{\"id\":\"5796de38-23d1-4b40-ac62-f2c64830da8e\",\"type\":\"ColumnDataSource\"},\"glyph\":{\"id\":\"88eb0b58-76f0-4f3e-b675-9323d80afc6c\",\"type\":\"Rect\"},\"hover_glyph\":null,\"nonselection_glyph\":{\"id\":\"16ba8253-2ec4-42ad-8dac-308f14f51ada\",\"type\":\"Rect\"},\"selection_glyph\":null},\"id\":\"d8679f63-3457-4c7d-a294-638416a361e2\",\"type\":\"GlyphRenderer\"},{\"attributes\":{\"fill_alpha\":{\"value\":0.1},\"fill_color\":{\"value\":\"#1f77b4\"},\"height\":{\"units\":\"data\",\"value\":0.4},\"line_alpha\":{\"value\":0.1},\"line_color\":{\"value\":\"#1f77b4\"},\"width\":{\"units\":\"data\",\"value\":23},\"x\":{\"value\":11.5},\"y\":{\"value\":3}},\"id\":\"a0ce600f-5a64-4558-a10f-fecc8f0919ff\",\"type\":\"Rect\"},{\"attributes\":{\"fill_alpha\":{\"value\":0.1},\"fill_color\":{\"value\":\"#1f77b4\"},\"height\":{\"units\":\"data\",\"value\":0.4},\"line_alpha\":{\"value\":0.1},\"line_color\":{\"value\":\"#1f77b4\"},\"width\":{\"units\":\"data\",\"value\":74},\"x\":{\"value\":37.0},\"y\":{\"value\":12}},\"id\":\"4f6014c9-1b39-49d6-acfd-2a1b496fa905\",\"type\":\"Rect\"},{\"attributes\":{\"callback\":null},\"id\":\"5796de38-23d1-4b40-ac62-f2c64830da8e\",\"type\":\"ColumnDataSource\"},{\"attributes\":{\"fill_color\":{\"value\":\"#1f77b4\"},\"height\":{\"units\":\"data\",\"value\":0.4},\"line_color\":{\"value\":\"#1f77b4\"},\"width\":{\"units\":\"data\",\"value\":86},\"x\":{\"value\":43.0},\"y\":{\"value\":15}},\"id\":\"bb6ef349-3e7b-491b-b7e2-df479f4b9b1f\",\"type\":\"Rect\"},{\"attributes\":{\"plot\":{\"id\":\"5ca7d4f8-c341-4821-8668-44ae708a6b94\",\"subtype\":\"Figure\",\"type\":\"Plot\"}},\"id\":\"8a65da1a-2de0-4d7d-b861-88cb684e346e\",\"type\":\"HelpTool\"},{\"attributes\":{\"data_source\":{\"id\":\"76babf37-6b3e-4402-b67a-0d1015650c1f\",\"type\":\"ColumnDataSource\"},\"glyph\":{\"id\":\"4fef1a55-0d44-4b69-9f5a-7ad1c2a4f9a4\",\"type\":\"Rect\"},\"hover_glyph\":null,\"nonselection_glyph\":{\"id\":\"b3d2d908-5810-4141-bf66-69538aa9bedb\",\"type\":\"Rect\"},\"selection_glyph\":null},\"id\":\"f3705d0a-2d42-4753-b020-dbfe34ecce72\",\"type\":\"GlyphRenderer\"},{\"attributes\":{\"fill_color\":{\"value\":\"#1f77b4\"},\"height\":{\"units\":\"data\",\"value\":0.4},\"line_color\":{\"value\":\"#1f77b4\"},\"width\":{\"units\":\"data\",\"value\":32},\"x\":{\"value\":16.0},\"y\":{\"value\":8}},\"id\":\"ea18b467-673c-4a1c-9290-21a06cb07e1c\",\"type\":\"Rect\"},{\"attributes\":{\"fill_color\":{\"value\":\"#1f77b4\"},\"height\":{\"units\":\"data\",\"value\":0.4},\"line_color\":{\"value\":\"#1f77b4\"},\"width\":{\"units\":\"data\",\"value\":718},\"x\":{\"value\":359.0},\"y\":{\"value\":30}},\"id\":\"b027b29c-ada7-4331-a1c8-623af11a54ac\",\"type\":\"Rect\"},{\"attributes\":{\"plot\":{\"id\":\"5ca7d4f8-c341-4821-8668-44ae708a6b94\",\"subtype\":\"Figure\",\"type\":\"Plot\"},\"ticker\":{\"id\":\"f4fea92f-a953-42db-91fd-94b7c69a589e\",\"type\":\"BasicTicker\"}},\"id\":\"02fec1e6-b7b9-4928-8411-495fd600187f\",\"type\":\"Grid\"},{\"attributes\":{\"data_source\":{\"id\":\"418f64dc-f0fb-462b-8738-7461c782382a\",\"type\":\"ColumnDataSource\"},\"glyph\":{\"id\":\"2f660eb3-a637-4301-b2ed-ac19b52021ba\",\"type\":\"Rect\"},\"hover_glyph\":null,\"nonselection_glyph\":{\"id\":\"ef56a2c6-3e39-48e0-bbcb-4ae4fd1b2f8a\",\"type\":\"Rect\"},\"selection_glyph\":null},\"id\":\"7d75afb1-e05f-49a4-9330-830122c83b4e\",\"type\":\"GlyphRenderer\"},{\"attributes\":{\"callback\":null},\"id\":\"073a0c36-511d-4320-a1a3-dac81e9337f8\",\"type\":\"ColumnDataSource\"},{\"attributes\":{\"data_source\":{\"id\":\"03fd381a-aeec-452e-9b5b-2f44b97b2e26\",\"type\":\"ColumnDataSource\"},\"glyph\":{\"id\":\"0a695929-59df-444f-8684-01bc8d615172\",\"type\":\"Rect\"},\"hover_glyph\":null,\"nonselection_glyph\":{\"id\":\"d5d3a13d-ba85-4356-b6e2-1516c7cc9346\",\"type\":\"Rect\"},\"selection_glyph\":null},\"id\":\"3d07dc69-7320-434c-b7eb-a953c0283859\",\"type\":\"GlyphRenderer\"},{\"attributes\":{\"callback\":null},\"id\":\"4d1fd421-7693-4f66-95f6-654e5e1131e8\",\"type\":\"ColumnDataSource\"},{\"attributes\":{\"fill_alpha\":{\"value\":0.1},\"fill_color\":{\"value\":\"#1f77b4\"},\"height\":{\"units\":\"data\",\"value\":0.4},\"line_alpha\":{\"value\":0.1},\"line_color\":{\"value\":\"#1f77b4\"},\"width\":{\"units\":\"data\",\"value\":22},\"x\":{\"value\":11.0},\"y\":{\"value\":2}},\"id\":\"8e81d097-b982-43b7-b1bb-2e3d4d6abaf7\",\"type\":\"Rect\"},{\"attributes\":{\"callback\":null},\"id\":\"11604d48-70ec-4a06-9d53-6a6e6c0ce87f\",\"type\":\"ColumnDataSource\"},{\"attributes\":{\"fill_alpha\":{\"value\":0.1},\"fill_color\":{\"value\":\"#1f77b4\"},\"height\":{\"units\":\"data\",\"value\":0.4},\"line_alpha\":{\"value\":0.1},\"line_color\":{\"value\":\"#1f77b4\"},\"width\":{\"units\":\"data\",\"value\":86},\"x\":{\"value\":43.0},\"y\":{\"value\":15}},\"id\":\"f015611a-10f0-4291-bda5-c445e8a0adef\",\"type\":\"Rect\"},{\"attributes\":{\"callback\":null},\"id\":\"545ebe4b-7607-4a2c-bd86-1ace31c51925\",\"type\":\"ColumnDataSource\"},{\"attributes\":{\"data_source\":{\"id\":\"073a0c36-511d-4320-a1a3-dac81e9337f8\",\"type\":\"ColumnDataSource\"},\"glyph\":{\"id\":\"a7172d80-e309-460a-bcea-2b8910950849\",\"type\":\"Rect\"},\"hover_glyph\":null,\"nonselection_glyph\":{\"id\":\"59a00d6c-666a-4b35-b680-6e37e5c5e95f\",\"type\":\"Rect\"},\"selection_glyph\":null},\"id\":\"e8bc673c-9fc5-44d4-939a-39221dd23464\",\"type\":\"GlyphRenderer\"},{\"attributes\":{\"callback\":null},\"id\":\"3fd98720-9e8d-4b57-bf38-2b8453a02e93\",\"type\":\"ColumnDataSource\"},{\"attributes\":{\"fill_color\":{\"value\":\"#1f77b4\"},\"height\":{\"units\":\"data\",\"value\":0.4},\"line_color\":{\"value\":\"#1f77b4\"},\"width\":{\"units\":\"data\",\"value\":184},\"x\":{\"value\":92.0},\"y\":{\"value\":18}},\"id\":\"88eb0b58-76f0-4f3e-b675-9323d80afc6c\",\"type\":\"Rect\"},{\"attributes\":{\"fill_color\":{\"value\":\"#1f77b4\"},\"height\":{\"units\":\"data\",\"value\":0.4},\"line_color\":{\"value\":\"#1f77b4\"},\"width\":{\"units\":\"data\",\"value\":385},\"x\":{\"value\":192.5},\"y\":{\"value\":22}},\"id\":\"18129daa-0673-478a-95e1-44c410090e50\",\"type\":\"Rect\"},{\"attributes\":{\"fill_color\":{\"value\":\"#1f77b4\"},\"height\":{\"units\":\"data\",\"value\":0.4},\"line_color\":{\"value\":\"#1f77b4\"},\"width\":{\"units\":\"data\",\"value\":130},\"x\":{\"value\":65.0},\"y\":{\"value\":17}},\"id\":\"074a1fa0-6e8e-44e0-bcb6-1cf9f436c089\",\"type\":\"Rect\"},{\"attributes\":{\"fill_alpha\":{\"value\":0.1},\"fill_color\":{\"value\":\"#1f77b4\"},\"height\":{\"units\":\"data\",\"value\":0.4},\"line_alpha\":{\"value\":0.1},\"line_color\":{\"value\":\"#1f77b4\"},\"width\":{\"units\":\"data\",\"value\":41},\"x\":{\"value\":20.5},\"y\":{\"value\":9}},\"id\":\"ab85c369-3413-46c7-9eb0-474fd5eacc10\",\"type\":\"Rect\"},{\"attributes\":{},\"id\":\"214cc115-e53c-4e37-912c-043772b945e7\",\"type\":\"ToolEvents\"},{\"attributes\":{\"fill_color\":{\"value\":\"#1f77b4\"},\"height\":{\"units\":\"data\",\"value\":0.4},\"line_color\":{\"value\":\"#1f77b4\"},\"width\":{\"units\":\"data\",\"value\":357},\"x\":{\"value\":178.5},\"y\":{\"value\":21}},\"id\":\"2f660eb3-a637-4301-b2ed-ac19b52021ba\",\"type\":\"Rect\"},{\"attributes\":{\"fill_alpha\":{\"value\":0.1},\"fill_color\":{\"value\":\"#1f77b4\"},\"height\":{\"units\":\"data\",\"value\":0.4},\"line_alpha\":{\"value\":0.1},\"line_color\":{\"value\":\"#1f77b4\"},\"width\":{\"units\":\"data\",\"value\":27},\"x\":{\"value\":13.5},\"y\":{\"value\":6}},\"id\":\"26001df5-32e1-47b3-ad0b-c0227918ec00\",\"type\":\"Rect\"},{\"attributes\":{\"callback\":null},\"id\":\"2178c0d5-6f84-4e28-8115-d1284bea326b\",\"type\":\"DataRange1d\"},{\"attributes\":{\"callback\":null},\"id\":\"418f64dc-f0fb-462b-8738-7461c782382a\",\"type\":\"ColumnDataSource\"},{\"attributes\":{\"fill_alpha\":{\"value\":0.1},\"fill_color\":{\"value\":\"#1f77b4\"},\"height\":{\"units\":\"data\",\"value\":0.4},\"line_alpha\":{\"value\":0.1},\"line_color\":{\"value\":\"#1f77b4\"},\"width\":{\"units\":\"data\",\"value\":26},\"x\":{\"value\":13.0},\"y\":{\"value\":5}},\"id\":\"d264c0fe-69a1-418c-ad61-d3fb7a5821d2\",\"type\":\"Rect\"},{\"attributes\":{\"fill_alpha\":{\"value\":0.1},\"fill_color\":{\"value\":\"#1f77b4\"},\"height\":{\"units\":\"data\",\"value\":0.4},\"line_alpha\":{\"value\":0.1},\"line_color\":{\"value\":\"#1f77b4\"},\"width\":{\"units\":\"data\",\"value\":357},\"x\":{\"value\":178.5},\"y\":{\"value\":21}},\"id\":\"ef56a2c6-3e39-48e0-bbcb-4ae4fd1b2f8a\",\"type\":\"Rect\"},{\"attributes\":{\"data_source\":{\"id\":\"dd55c3e6-5e8d-497b-8222-27074b0be7c5\",\"type\":\"ColumnDataSource\"},\"glyph\":{\"id\":\"11661829-33ed-4bf7-bbb6-41581ba3e5c7\",\"type\":\"Rect\"},\"hover_glyph\":null,\"nonselection_glyph\":{\"id\":\"a0d4cf1a-2ba0-44f2-95d0-f3220c1f3273\",\"type\":\"Rect\"},\"selection_glyph\":null},\"id\":\"078cb089-b7b2-41b4-957c-4aa890625f48\",\"type\":\"GlyphRenderer\"},{\"attributes\":{\"data_source\":{\"id\":\"9d4319e6-271f-4324-b78e-7e6cd5b1fdb7\",\"type\":\"ColumnDataSource\"},\"glyph\":{\"id\":\"2069b9bb-ef9e-47f8-bedf-5a19cab29d5d\",\"type\":\"Rect\"},\"hover_glyph\":null,\"nonselection_glyph\":{\"id\":\"4f6014c9-1b39-49d6-acfd-2a1b496fa905\",\"type\":\"Rect\"},\"selection_glyph\":null},\"id\":\"f2eede44-c3a4-441d-9cee-b59a9fdb2091\",\"type\":\"GlyphRenderer\"},{\"attributes\":{\"fill_color\":{\"value\":\"#1f77b4\"},\"height\":{\"units\":\"data\",\"value\":0.4},\"line_color\":{\"value\":\"#1f77b4\"},\"width\":{\"units\":\"data\",\"value\":705},\"x\":{\"value\":352.5},\"y\":{\"value\":28}},\"id\":\"11661829-33ed-4bf7-bbb6-41581ba3e5c7\",\"type\":\"Rect\"},{\"attributes\":{\"axis_label\":\"Field\",\"formatter\":{\"id\":\"47e103e5-3e69-4392-a53c-727d77d15423\",\"type\":\"CategoricalTickFormatter\"},\"plot\":{\"id\":\"5ca7d4f8-c341-4821-8668-44ae708a6b94\",\"subtype\":\"Figure\",\"type\":\"Plot\"},\"ticker\":{\"id\":\"946f692b-4e92-4025-9876-6b3680684ab7\",\"type\":\"CategoricalTicker\"}},\"id\":\"0b4cb432-ce9e-4ec7-8ba1-f450c816f50e\",\"type\":\"CategoricalAxis\"},{\"attributes\":{\"callback\":null},\"id\":\"b768fdbf-a223-4728-965c-153f19675c3e\",\"type\":\"ColumnDataSource\"},{\"attributes\":{\"fill_color\":{\"value\":\"#1f77b4\"},\"height\":{\"units\":\"data\",\"value\":0.4},\"line_color\":{\"value\":\"#1f77b4\"},\"width\":{\"units\":\"data\",\"value\":41},\"x\":{\"value\":20.5},\"y\":{\"value\":9}},\"id\":\"244dd6e7-1920-40ad-86a0-88a59958c7e0\",\"type\":\"Rect\"},{\"attributes\":{\"fill_alpha\":{\"value\":0.1},\"fill_color\":{\"value\":\"#1f77b4\"},\"height\":{\"units\":\"data\",\"value\":0.4},\"line_alpha\":{\"value\":0.1},\"line_color\":{\"value\":\"#1f77b4\"},\"width\":{\"units\":\"data\",\"value\":385},\"x\":{\"value\":192.5},\"y\":{\"value\":22}},\"id\":\"72ff5d29-7f61-4585-826d-d9ea2e43c6a7\",\"type\":\"Rect\"},{\"attributes\":{\"fill_color\":{\"value\":\"#1f77b4\"},\"height\":{\"units\":\"data\",\"value\":0.4},\"line_color\":{\"value\":\"#1f77b4\"},\"width\":{\"units\":\"data\",\"value\":15},\"x\":{\"value\":7.5},\"y\":{\"value\":1}},\"id\":\"82cd4647-45d5-4570-869a-751505b1c106\",\"type\":\"Rect\"},{\"attributes\":{\"fill_alpha\":{\"value\":0.1},\"fill_color\":{\"value\":\"#1f77b4\"},\"height\":{\"units\":\"data\",\"value\":0.4},\"line_alpha\":{\"value\":0.1},\"line_color\":{\"value\":\"#1f77b4\"},\"width\":{\"units\":\"data\",\"value\":556},\"x\":{\"value\":278.0},\"y\":{\"value\":24}},\"id\":\"cd73244e-87e5-47b9-803d-bb4268bda3fd\",\"type\":\"Rect\"},{\"attributes\":{\"data_source\":{\"id\":\"f286b1d4-9dff-43ab-8690-b154b8f90ded\",\"type\":\"ColumnDataSource\"},\"glyph\":{\"id\":\"a9e02792-ef5f-4e99-9f97-2da803030452\",\"type\":\"Rect\"},\"hover_glyph\":null,\"nonselection_glyph\":{\"id\":\"917ef8e8-fd6e-4f48-97c9-dfa25e42b79a\",\"type\":\"Rect\"},\"selection_glyph\":null},\"id\":\"adad04c5-711d-45ef-8feb-13ec14d2d90d\",\"type\":\"GlyphRenderer\"},{\"attributes\":{\"callback\":null},\"id\":\"fc1b5c52-5d7e-46d9-8788-1ec5a65e5979\",\"type\":\"ColumnDataSource\"},{\"attributes\":{\"bottom_units\":\"screen\",\"fill_alpha\":{\"value\":0.5},\"fill_color\":{\"value\":\"lightgrey\"},\"left_units\":\"screen\",\"level\":\"overlay\",\"line_alpha\":{\"value\":1.0},\"line_color\":{\"value\":\"black\"},\"line_dash\":[4,4],\"line_width\":{\"value\":2},\"plot\":null,\"render_mode\":\"css\",\"right_units\":\"screen\",\"top_units\":\"screen\"},\"id\":\"be86915e-014a-4826-8a2f-d2f103d88be5\",\"type\":\"BoxAnnotation\"},{\"attributes\":{\"data_source\":{\"id\":\"80def022-ad61-4f2e-bf65-7a8155fc23ba\",\"type\":\"ColumnDataSource\"},\"glyph\":{\"id\":\"ea18b467-673c-4a1c-9290-21a06cb07e1c\",\"type\":\"Rect\"},\"hover_glyph\":null,\"nonselection_glyph\":{\"id\":\"afa7a9a3-fc10-48de-ab70-0dc20ec70f39\",\"type\":\"Rect\"},\"selection_glyph\":null},\"id\":\"c6f1357e-2799-40bd-b067-e61a2ff3ef97\",\"type\":\"GlyphRenderer\"},{\"attributes\":{\"callback\":null},\"id\":\"4375e1aa-f68c-4bdb-b539-ba4048b84ea2\",\"type\":\"ColumnDataSource\"},{\"attributes\":{\"callback\":null},\"id\":\"30471ac2-9bb9-4447-9bd4-78f1c5ccf602\",\"type\":\"ColumnDataSource\"},{\"attributes\":{\"callback\":null},\"id\":\"dd55c3e6-5e8d-497b-8222-27074b0be7c5\",\"type\":\"ColumnDataSource\"},{\"attributes\":{\"callback\":null},\"id\":\"05731766-e4e9-414e-bebb-046e92ab84c4\",\"type\":\"ColumnDataSource\"},{\"attributes\":{\"dimension\":1,\"plot\":{\"id\":\"5ca7d4f8-c341-4821-8668-44ae708a6b94\",\"subtype\":\"Figure\",\"type\":\"Plot\"},\"ticker\":{\"id\":\"946f692b-4e92-4025-9876-6b3680684ab7\",\"type\":\"CategoricalTicker\"}},\"id\":\"806a5fab-3f4e-4fc6-bc8b-5b831a9b9e85\",\"type\":\"Grid\"},{\"attributes\":{\"data_source\":{\"id\":\"e29a4787-09f2-4891-a361-80abe1417d56\",\"type\":\"ColumnDataSource\"},\"glyph\":{\"id\":\"6cd0fc0a-d381-4889-8e83-69fde3b8e98a\",\"type\":\"Rect\"},\"hover_glyph\":null,\"nonselection_glyph\":{\"id\":\"b0df2b19-927b-43bb-bd41-e368777fc093\",\"type\":\"Rect\"},\"selection_glyph\":null},\"id\":\"bef5ff92-ebb4-4bf0-b2c6-b87507c6a2d6\",\"type\":\"GlyphRenderer\"},{\"attributes\":{\"callback\":null},\"id\":\"954c1270-867b-4094-a2f7-753bbd7809f3\",\"type\":\"ColumnDataSource\"},{\"attributes\":{\"active_drag\":\"auto\",\"active_scroll\":\"auto\",\"active_tap\":\"auto\",\"tools\":[{\"id\":\"885c3c61-f4ab-4a03-b8f4-c0dadffb6c2b\",\"type\":\"PanTool\"},{\"id\":\"2b959fe1-40c3-4a1d-83a2-7938599f8b7a\",\"type\":\"WheelZoomTool\"},{\"id\":\"4598a1d5-eaca-4b7d-ad5a-5e459fd00554\",\"type\":\"BoxZoomTool\"},{\"id\":\"42762a8e-3446-4e6a-a569-d12b5ced276c\",\"type\":\"SaveTool\"},{\"id\":\"93a2b06c-132c-402e-a488-4f31d08b914b\",\"type\":\"ResetTool\"},{\"id\":\"8a65da1a-2de0-4d7d-b861-88cb684e346e\",\"type\":\"HelpTool\"}]},\"id\":\"f2a6a7f3-932f-49dc-9042-b0c672571231\",\"type\":\"Toolbar\"},{\"attributes\":{\"callback\":null},\"id\":\"c1028679-182a-4dea-a448-e4d270243e88\",\"type\":\"ColumnDataSource\"},{\"attributes\":{\"fill_alpha\":{\"value\":0.1},\"fill_color\":{\"value\":\"#1f77b4\"},\"height\":{\"units\":\"data\",\"value\":0.4},\"line_alpha\":{\"value\":0.1},\"line_color\":{\"value\":\"#1f77b4\"},\"width\":{\"units\":\"data\",\"value\":74},\"x\":{\"value\":37.0},\"y\":{\"value\":13}},\"id\":\"c9280ebc-4166-4933-ac8e-133b7e8d25ba\",\"type\":\"Rect\"},{\"attributes\":{\"data_source\":{\"id\":\"30471ac2-9bb9-4447-9bd4-78f1c5ccf602\",\"type\":\"ColumnDataSource\"},\"glyph\":{\"id\":\"61114b0f-000a-4042-b25f-3861a3e8053e\",\"type\":\"Rect\"},\"hover_glyph\":null,\"nonselection_glyph\":{\"id\":\"c9280ebc-4166-4933-ac8e-133b7e8d25ba\",\"type\":\"Rect\"},\"selection_glyph\":null},\"id\":\"c1dcdb7d-ba51-40de-8b74-7e0c9178672e\",\"type\":\"GlyphRenderer\"},{\"attributes\":{\"overlay\":{\"id\":\"be86915e-014a-4826-8a2f-d2f103d88be5\",\"type\":\"BoxAnnotation\"},\"plot\":{\"id\":\"5ca7d4f8-c341-4821-8668-44ae708a6b94\",\"subtype\":\"Figure\",\"type\":\"Plot\"}},\"id\":\"4598a1d5-eaca-4b7d-ad5a-5e459fd00554\",\"type\":\"BoxZoomTool\"},{\"attributes\":{\"fill_alpha\":{\"value\":0.1},\"fill_color\":{\"value\":\"#1f77b4\"},\"height\":{\"units\":\"data\",\"value\":0.4},\"line_alpha\":{\"value\":0.1},\"line_color\":{\"value\":\"#1f77b4\"},\"width\":{\"units\":\"data\",\"value\":718},\"x\":{\"value\":359.0},\"y\":{\"value\":30}},\"id\":\"418ce2a2-e174-4dfa-b833-5864b7cf4311\",\"type\":\"Rect\"},{\"attributes\":{\"fill_alpha\":{\"value\":0.1},\"fill_color\":{\"value\":\"#1f77b4\"},\"height\":{\"units\":\"data\",\"value\":0.4},\"line_alpha\":{\"value\":0.1},\"line_color\":{\"value\":\"#1f77b4\"},\"width\":{\"units\":\"data\",\"value\":184},\"x\":{\"value\":92.0},\"y\":{\"value\":18}},\"id\":\"16ba8253-2ec4-42ad-8dac-308f14f51ada\",\"type\":\"Rect\"},{\"attributes\":{\"callback\":null},\"id\":\"ac58d53c-5570-4c20-8c6b-6f6f56c2d5a7\",\"type\":\"ColumnDataSource\"},{\"attributes\":{\"callback\":null},\"id\":\"f286b1d4-9dff-43ab-8690-b154b8f90ded\",\"type\":\"ColumnDataSource\"},{\"attributes\":{\"data_source\":{\"id\":\"c913d674-8256-43ba-abf5-0829a963da4e\",\"type\":\"ColumnDataSource\"},\"glyph\":{\"id\":\"a49857a3-b5ee-4c15-bba1-fcbc8ee67a48\",\"type\":\"Rect\"},\"hover_glyph\":null,\"nonselection_glyph\":{\"id\":\"50746f72-94e1-4aeb-9a1d-8045f3c71937\",\"type\":\"Rect\"},\"selection_glyph\":null},\"id\":\"f7fcfa94-7c29-49e2-a07c-ed5afb930c07\",\"type\":\"GlyphRenderer\"},{\"attributes\":{\"data_source\":{\"id\":\"3fd98720-9e8d-4b57-bf38-2b8453a02e93\",\"type\":\"ColumnDataSource\"},\"glyph\":{\"id\":\"074a1fa0-6e8e-44e0-bcb6-1cf9f436c089\",\"type\":\"Rect\"},\"hover_glyph\":null,\"nonselection_glyph\":{\"id\":\"1312bdb6-393f-494e-8531-4d26563957ff\",\"type\":\"Rect\"},\"selection_glyph\":null},\"id\":\"f4dc269e-b45d-4384-aec0-b117a90467e5\",\"type\":\"GlyphRenderer\"},{\"attributes\":{\"fill_color\":{\"value\":\"#1f77b4\"},\"height\":{\"units\":\"data\",\"value\":0.4},\"line_color\":{\"value\":\"#1f77b4\"},\"width\":{\"units\":\"data\",\"value\":26},\"x\":{\"value\":13.0},\"y\":{\"value\":5}},\"id\":\"98b589fc-b2cc-4c1b-b581-509f239e648d\",\"type\":\"Rect\"},{\"attributes\":{},\"id\":\"f4fea92f-a953-42db-91fd-94b7c69a589e\",\"type\":\"BasicTicker\"},{\"attributes\":{\"fill_color\":{\"value\":\"#1f77b4\"},\"height\":{\"units\":\"data\",\"value\":0.4},\"line_color\":{\"value\":\"#1f77b4\"},\"width\":{\"units\":\"data\",\"value\":206},\"x\":{\"value\":103.0},\"y\":{\"value\":19}},\"id\":\"88b695e3-b569-46c6-8d41-1598ff141084\",\"type\":\"Rect\"},{\"attributes\":{\"callback\":null},\"id\":\"80def022-ad61-4f2e-bf65-7a8155fc23ba\",\"type\":\"ColumnDataSource\"},{\"attributes\":{\"data_source\":{\"id\":\"e5131f9a-ecf7-4551-ae9c-5310c205c4a4\",\"type\":\"ColumnDataSource\"},\"glyph\":{\"id\":\"37aa8111-c295-4e91-ace9-9a8229643e75\",\"type\":\"Rect\"},\"hover_glyph\":null,\"nonselection_glyph\":{\"id\":\"26001df5-32e1-47b3-ad0b-c0227918ec00\",\"type\":\"Rect\"},\"selection_glyph\":null},\"id\":\"fc74d951-57ef-45be-9dc4-9e45cae6f26b\",\"type\":\"GlyphRenderer\"},{\"attributes\":{\"fill_color\":{\"value\":\"#1f77b4\"},\"height\":{\"units\":\"data\",\"value\":0.4},\"line_color\":{\"value\":\"#1f77b4\"},\"width\":{\"units\":\"data\",\"value\":76},\"x\":{\"value\":38.0},\"y\":{\"value\":14}},\"id\":\"e5da5d43-085b-4b49-a5f8-68c4f2429582\",\"type\":\"Rect\"},{\"attributes\":{\"callback\":null},\"id\":\"76babf37-6b3e-4402-b67a-0d1015650c1f\",\"type\":\"ColumnDataSource\"},{\"attributes\":{},\"id\":\"946f692b-4e92-4025-9876-6b3680684ab7\",\"type\":\"CategoricalTicker\"},{\"attributes\":{\"fill_color\":{\"value\":\"#1f77b4\"},\"height\":{\"units\":\"data\",\"value\":0.4},\"line_color\":{\"value\":\"#1f77b4\"},\"width\":{\"units\":\"data\",\"value\":27},\"x\":{\"value\":13.5},\"y\":{\"value\":6}},\"id\":\"37aa8111-c295-4e91-ace9-9a8229643e75\",\"type\":\"Rect\"},{\"attributes\":{\"fill_color\":{\"value\":\"#1f77b4\"},\"height\":{\"units\":\"data\",\"value\":0.4},\"line_color\":{\"value\":\"#1f77b4\"},\"width\":{\"units\":\"data\",\"value\":597},\"x\":{\"value\":298.5},\"y\":{\"value\":25}},\"id\":\"a49857a3-b5ee-4c15-bba1-fcbc8ee67a48\",\"type\":\"Rect\"},{\"attributes\":{\"plot\":{\"id\":\"5ca7d4f8-c341-4821-8668-44ae708a6b94\",\"subtype\":\"Figure\",\"type\":\"Plot\"}},\"id\":\"885c3c61-f4ab-4a03-b8f4-c0dadffb6c2b\",\"type\":\"PanTool\"},{\"attributes\":{\"data_source\":{\"id\":\"4375e1aa-f68c-4bdb-b539-ba4048b84ea2\",\"type\":\"ColumnDataSource\"},\"glyph\":{\"id\":\"88b695e3-b569-46c6-8d41-1598ff141084\",\"type\":\"Rect\"},\"hover_glyph\":null,\"nonselection_glyph\":{\"id\":\"096b66d1-7291-4602-99ec-21ac8813e42e\",\"type\":\"Rect\"},\"selection_glyph\":null},\"id\":\"c4b7be7c-0c93-432c-b1c2-c98eab31be27\",\"type\":\"GlyphRenderer\"},{\"attributes\":{\"fill_color\":{\"value\":\"#1f77b4\"},\"height\":{\"units\":\"data\",\"value\":0.4},\"line_color\":{\"value\":\"#1f77b4\"},\"width\":{\"units\":\"data\",\"value\":26},\"x\":{\"value\":13.0},\"y\":{\"value\":4}},\"id\":\"f35ee609-d99e-4c3c-b7b8-b87ebadb87ea\",\"type\":\"Rect\"},{\"attributes\":{\"data_source\":{\"id\":\"3be69358-c629-4d39-811c-b69bfe8b8cd5\",\"type\":\"ColumnDataSource\"},\"glyph\":{\"id\":\"b027b29c-ada7-4331-a1c8-623af11a54ac\",\"type\":\"Rect\"},\"hover_glyph\":null,\"nonselection_glyph\":{\"id\":\"418ce2a2-e174-4dfa-b833-5864b7cf4311\",\"type\":\"Rect\"},\"selection_glyph\":null},\"id\":\"06fe3b51-bac5-4940-bb8b-8b475c3c76a8\",\"type\":\"GlyphRenderer\"},{\"attributes\":{\"data_source\":{\"id\":\"4d1fd421-7693-4f66-95f6-654e5e1131e8\",\"type\":\"ColumnDataSource\"},\"glyph\":{\"id\":\"bb6ef349-3e7b-491b-b7e2-df479f4b9b1f\",\"type\":\"Rect\"},\"hover_glyph\":null,\"nonselection_glyph\":{\"id\":\"f015611a-10f0-4291-bda5-c445e8a0adef\",\"type\":\"Rect\"},\"selection_glyph\":null},\"id\":\"7acd8d4a-1cbb-4036-82f8-adb086c12131\",\"type\":\"GlyphRenderer\"},{\"attributes\":{\"data_source\":{\"id\":\"bc3afc23-233d-4acf-ab13-f9097ca50bbf\",\"type\":\"ColumnDataSource\"},\"glyph\":{\"id\":\"82cd4647-45d5-4570-869a-751505b1c106\",\"type\":\"Rect\"},\"hover_glyph\":null,\"nonselection_glyph\":{\"id\":\"45bf15e1-ef24-493f-89fd-aa6788201cc7\",\"type\":\"Rect\"},\"selection_glyph\":null},\"id\":\"20c285c6-ed00-4a6b-8769-c18771c3949d\",\"type\":\"GlyphRenderer\"},{\"attributes\":{\"plot\":{\"id\":\"5ca7d4f8-c341-4821-8668-44ae708a6b94\",\"subtype\":\"Figure\",\"type\":\"Plot\"}},\"id\":\"93a2b06c-132c-402e-a488-4f31d08b914b\",\"type\":\"ResetTool\"},{\"attributes\":{\"callback\":null,\"factors\":[\"Relevant_Properties\",\"Enabling_Factors_for_Exploitation\",\"Other_Notes\",\"Theoretical_Notes\",\"Terminology_Notes\",\"Functional_Areas\",\"White_Box_Definitions\",\"Modes_of_Introduction\",\"Background_Details\",\"Affected_Resources\",\"Alternate_Terms\",\"Research_Gaps\",\"Causal_Nature\",\"Detection_Methods\",\"Maintenance_Notes\",\"Relationship_Notes\",\"Weakness_Ordinalities\",\"Likelihood_of_Exploit\",\"Related_Attack_Patterns\",\"References\",\"Observed_Examples\",\"Demonstrative_Examples\",\"Potential_Mitigations\",\"Applicable_Platforms\",\"Taxonomy_Mappings\",\"Time_of_Introduction\",\"Common_Consequences\",\"Relationships\",\"Content_History\",\"Description\"]},\"id\":\"4c19dfdd-93c1-40b7-9d26-9d0a364c9f71\",\"type\":\"FactorRange\"},{\"attributes\":{\"callback\":null},\"id\":\"987307f6-37ab-4608-8da6-d4a34ba05ccf\",\"type\":\"ColumnDataSource\"},{\"attributes\":{\"fill_color\":{\"value\":\"#1f77b4\"},\"height\":{\"units\":\"data\",\"value\":0.4},\"line_color\":{\"value\":\"#1f77b4\"},\"width\":{\"units\":\"data\",\"value\":556},\"x\":{\"value\":278.0},\"y\":{\"value\":24}},\"id\":\"e80ba1dd-425b-4f5c-be0d-ab5786d7ee4d\",\"type\":\"Rect\"},{\"attributes\":{\"fill_color\":{\"value\":\"#1f77b4\"},\"height\":{\"units\":\"data\",\"value\":0.4},\"line_color\":{\"value\":\"#1f77b4\"},\"width\":{\"units\":\"data\",\"value\":281},\"x\":{\"value\":140.5},\"y\":{\"value\":20}},\"id\":\"6cd0fc0a-d381-4889-8e83-69fde3b8e98a\",\"type\":\"Rect\"},{\"attributes\":{\"fill_alpha\":{\"value\":0.1},\"fill_color\":{\"value\":\"#1f77b4\"},\"height\":{\"units\":\"data\",\"value\":0.4},\"line_alpha\":{\"value\":0.1},\"line_color\":{\"value\":\"#1f77b4\"},\"width\":{\"units\":\"data\",\"value\":701},\"x\":{\"value\":350.5},\"y\":{\"value\":27}},\"id\":\"61bcb6ce-f275-487e-87fe-4bc010fc89f0\",\"type\":\"Rect\"},{\"attributes\":{\"fill_color\":{\"value\":\"#1f77b4\"},\"height\":{\"units\":\"data\",\"value\":0.4},\"line_color\":{\"value\":\"#1f77b4\"},\"width\":{\"units\":\"data\",\"value\":74},\"x\":{\"value\":37.0},\"y\":{\"value\":13}},\"id\":\"61114b0f-000a-4042-b25f-3861a3e8053e\",\"type\":\"Rect\"},{\"attributes\":{\"callback\":null},\"id\":\"bc3afc23-233d-4acf-ab13-f9097ca50bbf\",\"type\":\"ColumnDataSource\"},{\"attributes\":{\"axis_label\":\"Frequency\",\"formatter\":{\"id\":\"829c9766-8f9e-41e9-bebb-afcabd85224d\",\"type\":\"BasicTickFormatter\"},\"plot\":{\"id\":\"5ca7d4f8-c341-4821-8668-44ae708a6b94\",\"subtype\":\"Figure\",\"type\":\"Plot\"},\"ticker\":{\"id\":\"f4fea92f-a953-42db-91fd-94b7c69a589e\",\"type\":\"BasicTicker\"}},\"id\":\"7f681d34-bb85-4151-84de-b71ee60aed08\",\"type\":\"LinearAxis\"},{\"attributes\":{\"data_source\":{\"id\":\"954c1270-867b-4094-a2f7-753bbd7809f3\",\"type\":\"ColumnDataSource\"},\"glyph\":{\"id\":\"244dd6e7-1920-40ad-86a0-88a59958c7e0\",\"type\":\"Rect\"},\"hover_glyph\":null,\"nonselection_glyph\":{\"id\":\"ab85c369-3413-46c7-9eb0-474fd5eacc10\",\"type\":\"Rect\"},\"selection_glyph\":null},\"id\":\"e9776828-46b0-42aa-a2fc-12d1331e6c1c\",\"type\":\"GlyphRenderer\"},{\"attributes\":{\"data_source\":{\"id\":\"0857d452-b88b-40e9-9b01-f805e8195c58\",\"type\":\"ColumnDataSource\"},\"glyph\":{\"id\":\"98b589fc-b2cc-4c1b-b581-509f239e648d\",\"type\":\"Rect\"},\"hover_glyph\":null,\"nonselection_glyph\":{\"id\":\"d264c0fe-69a1-418c-ad61-d3fb7a5821d2\",\"type\":\"Rect\"},\"selection_glyph\":null},\"id\":\"9f112476-4827-4e14-8e6a-3212b321a9b2\",\"type\":\"GlyphRenderer\"},{\"attributes\":{\"fill_alpha\":{\"value\":0.1},\"fill_color\":{\"value\":\"#1f77b4\"},\"height\":{\"units\":\"data\",\"value\":0.4},\"line_alpha\":{\"value\":0.1},\"line_color\":{\"value\":\"#1f77b4\"},\"width\":{\"units\":\"data\",\"value\":597},\"x\":{\"value\":298.5},\"y\":{\"value\":25}},\"id\":\"50746f72-94e1-4aeb-9a1d-8045f3c71937\",\"type\":\"Rect\"},{\"attributes\":{\"fill_alpha\":{\"value\":0.1},\"fill_color\":{\"value\":\"#1f77b4\"},\"height\":{\"units\":\"data\",\"value\":0.4},\"line_alpha\":{\"value\":0.1},\"line_color\":{\"value\":\"#1f77b4\"},\"width\":{\"units\":\"data\",\"value\":15},\"x\":{\"value\":7.5},\"y\":{\"value\":1}},\"id\":\"45bf15e1-ef24-493f-89fd-aa6788201cc7\",\"type\":\"Rect\"},{\"attributes\":{\"fill_color\":{\"value\":\"#1f77b4\"},\"height\":{\"units\":\"data\",\"value\":0.4},\"line_color\":{\"value\":\"#1f77b4\"},\"width\":{\"units\":\"data\",\"value\":122},\"x\":{\"value\":61.0},\"y\":{\"value\":16}},\"id\":\"0a695929-59df-444f-8684-01bc8d615172\",\"type\":\"Rect\"},{\"attributes\":{\"fill_alpha\":{\"value\":0.1},\"fill_color\":{\"value\":\"#1f77b4\"},\"height\":{\"units\":\"data\",\"value\":0.4},\"line_alpha\":{\"value\":0.1},\"line_color\":{\"value\":\"#1f77b4\"},\"width\":{\"units\":\"data\",\"value\":29},\"x\":{\"value\":14.5},\"y\":{\"value\":7}},\"id\":\"2f244dac-9082-48b3-8095-7561797eb1c1\",\"type\":\"Rect\"},{\"attributes\":{\"fill_alpha\":{\"value\":0.1},\"fill_color\":{\"value\":\"#1f77b4\"},\"height\":{\"units\":\"data\",\"value\":0.4},\"line_alpha\":{\"value\":0.1},\"line_color\":{\"value\":\"#1f77b4\"},\"width\":{\"units\":\"data\",\"value\":76},\"x\":{\"value\":38.0},\"y\":{\"value\":14}},\"id\":\"92b5de74-02d9-4b05-beba-082c0085b886\",\"type\":\"Rect\"},{\"attributes\":{\"callback\":null},\"id\":\"e29a4787-09f2-4891-a361-80abe1417d56\",\"type\":\"ColumnDataSource\"},{\"attributes\":{\"data_source\":{\"id\":\"b768fdbf-a223-4728-965c-153f19675c3e\",\"type\":\"ColumnDataSource\"},\"glyph\":{\"id\":\"e5da5d43-085b-4b49-a5f8-68c4f2429582\",\"type\":\"Rect\"},\"hover_glyph\":null,\"nonselection_glyph\":{\"id\":\"92b5de74-02d9-4b05-beba-082c0085b886\",\"type\":\"Rect\"},\"selection_glyph\":null},\"id\":\"7ee26d40-31a5-4078-917b-22167ac0d93e\",\"type\":\"GlyphRenderer\"},{\"attributes\":{\"fill_alpha\":{\"value\":0.1},\"fill_color\":{\"value\":\"#1f77b4\"},\"height\":{\"units\":\"data\",\"value\":0.4},\"line_alpha\":{\"value\":0.1},\"line_color\":{\"value\":\"#1f77b4\"},\"width\":{\"units\":\"data\",\"value\":122},\"x\":{\"value\":61.0},\"y\":{\"value\":16}},\"id\":\"d5d3a13d-ba85-4356-b6e2-1516c7cc9346\",\"type\":\"Rect\"},{\"attributes\":{\"fill_color\":{\"value\":\"#1f77b4\"},\"height\":{\"units\":\"data\",\"value\":0.4},\"line_color\":{\"value\":\"#1f77b4\"},\"width\":{\"units\":\"data\",\"value\":718},\"x\":{\"value\":359.0},\"y\":{\"value\":29}},\"id\":\"4fef1a55-0d44-4b69-9f5a-7ad1c2a4f9a4\",\"type\":\"Rect\"},{\"attributes\":{\"fill_alpha\":{\"value\":0.1},\"fill_color\":{\"value\":\"#1f77b4\"},\"height\":{\"units\":\"data\",\"value\":0.4},\"line_alpha\":{\"value\":0.1},\"line_color\":{\"value\":\"#1f77b4\"},\"width\":{\"units\":\"data\",\"value\":705},\"x\":{\"value\":352.5},\"y\":{\"value\":28}},\"id\":\"a0d4cf1a-2ba0-44f2-95d0-f3220c1f3273\",\"type\":\"Rect\"},{\"attributes\":{\"fill_color\":{\"value\":\"#1f77b4\"},\"height\":{\"units\":\"data\",\"value\":0.4},\"line_color\":{\"value\":\"#1f77b4\"},\"width\":{\"units\":\"data\",\"value\":22},\"x\":{\"value\":11.0},\"y\":{\"value\":2}},\"id\":\"9b62b79c-4ee6-4cda-b3e4-25654223dee5\",\"type\":\"Rect\"},{\"attributes\":{\"fill_color\":{\"value\":\"#1f77b4\"},\"height\":{\"units\":\"data\",\"value\":0.4},\"line_color\":{\"value\":\"#1f77b4\"},\"width\":{\"units\":\"data\",\"value\":664},\"x\":{\"value\":332.0},\"y\":{\"value\":26}},\"id\":\"a7172d80-e309-460a-bcea-2b8910950849\",\"type\":\"Rect\"},{\"attributes\":{\"callback\":null},\"id\":\"e5131f9a-ecf7-4551-ae9c-5310c205c4a4\",\"type\":\"ColumnDataSource\"},{\"attributes\":{\"data_source\":{\"id\":\"05731766-e4e9-414e-bebb-046e92ab84c4\",\"type\":\"ColumnDataSource\"},\"glyph\":{\"id\":\"18129daa-0673-478a-95e1-44c410090e50\",\"type\":\"Rect\"},\"hover_glyph\":null,\"nonselection_glyph\":{\"id\":\"72ff5d29-7f61-4585-826d-d9ea2e43c6a7\",\"type\":\"Rect\"},\"selection_glyph\":null},\"id\":\"18c4e113-865a-4d0a-8153-706d0a64ca88\",\"type\":\"GlyphRenderer\"},{\"attributes\":{\"fill_color\":{\"value\":\"#1f77b4\"},\"height\":{\"units\":\"data\",\"value\":0.4},\"line_color\":{\"value\":\"#1f77b4\"},\"width\":{\"units\":\"data\",\"value\":74},\"x\":{\"value\":37.0},\"y\":{\"value\":12}},\"id\":\"2069b9bb-ef9e-47f8-bedf-5a19cab29d5d\",\"type\":\"Rect\"},{\"attributes\":{\"fill_alpha\":{\"value\":0.1},\"fill_color\":{\"value\":\"#1f77b4\"},\"height\":{\"units\":\"data\",\"value\":0.4},\"line_alpha\":{\"value\":0.1},\"line_color\":{\"value\":\"#1f77b4\"},\"width\":{\"units\":\"data\",\"value\":32},\"x\":{\"value\":16.0},\"y\":{\"value\":8}},\"id\":\"afa7a9a3-fc10-48de-ab70-0dc20ec70f39\",\"type\":\"Rect\"},{\"attributes\":{\"callback\":null},\"id\":\"9d4319e6-271f-4324-b78e-7e6cd5b1fdb7\",\"type\":\"ColumnDataSource\"}],\"root_ids\":[\"5ca7d4f8-c341-4821-8668-44ae708a6b94\"]},\"title\":\"Bokeh Application\",\"version\":\"0.12.4\"}};\n",
       "            var render_items = [{\"docid\":\"38155f19-d714-496e-9125-d81c8f088c4d\",\"elementid\":\"0bd41e11-b476-467f-b60e-b58e05e04d1c\",\"modelid\":\"5ca7d4f8-c341-4821-8668-44ae708a6b94\"}];\n",
       "            \n",
       "            Bokeh.embed.embed_items(docs_json, render_items);\n",
       "          };\n",
       "          if (document.readyState != \"loading\") fn();\n",
       "          else document.addEventListener(\"DOMContentLoaded\", fn);\n",
       "        })();\n",
       "      },\n",
       "      function(Bokeh) {\n",
       "      }\n",
       "    ];\n",
       "  \n",
       "    function run_inline_js() {\n",
       "      \n",
       "      if ((window.Bokeh !== undefined) || (force === true)) {\n",
       "        for (var i = 0; i < inline_js.length; i++) {\n",
       "          inline_js[i](window.Bokeh);\n",
       "        }if (force === true) {\n",
       "          display_loaded();\n",
       "        }} else if (Date.now() < window._bokeh_timeout) {\n",
       "        setTimeout(run_inline_js, 100);\n",
       "      } else if (!window._bokeh_failed_load) {\n",
       "        console.log(\"Bokeh: BokehJS failed to load within specified timeout.\");\n",
       "        window._bokeh_failed_load = true;\n",
       "      } else if (force !== true) {\n",
       "        var cell = $(document.getElementById(\"0bd41e11-b476-467f-b60e-b58e05e04d1c\")).parents('.cell').data().cell;\n",
       "        cell.output_area.append_execute_result(NB_LOAD_WARNING)\n",
       "      }\n",
       "  \n",
       "    }\n",
       "  \n",
       "    if (window._bokeh_is_loading === 0) {\n",
       "      console.log(\"Bokeh: BokehJS loaded, going straight to plotting\");\n",
       "      run_inline_js();\n",
       "    } else {\n",
       "      load_libs(js_urls, function() {\n",
       "        console.log(\"Bokeh: BokehJS plotting callback run at\", now());\n",
       "        run_inline_js();\n",
       "      });\n",
       "    }\n",
       "  }(this));\n",
       "</script>"
      ]
     },
     "metadata": {},
     "output_type": "display_data"
    }
   ],
   "source": [
    "show(p)"
   ]
  },
  {
   "cell_type": "markdown",
   "metadata": {
    "deletable": true,
    "editable": true
   },
   "source": [
    "# Analyzing the Fields"
   ]
  },
  {
   "cell_type": "markdown",
   "metadata": {
    "deletable": true,
    "editable": true
   },
   "source": [
    "Now that we have the frequencies of the fields we can determine which fields will be most useful in creating our corpus. For this purpose the arbitrary number of 100 was chosen. If a field occurs more than 100 times it will be detailed below with an example. The observations are based on limited research and analysis so they are not perfect, but they reasonably describe the rules and regulations of each field."
   ]
  },
  {
   "cell_type": "markdown",
   "metadata": {
    "deletable": true,
    "editable": true
   },
   "source": [
    "### Currently Useful Fields"
   ]
  },
  {
   "cell_type": "markdown",
   "metadata": {},
   "source": [
    "These fields have been determined to be useful for developing the corpus. Each field contains relevent content that is structured and plentiful. The field that is most likely to cause difficulties is the \"Demonstrative_Examples\" field due to the fact that is has the least structured field of the four currently useful fields. "
   ]
  },
  {
   "cell_type": "markdown",
   "metadata": {
    "deletable": true,
    "editable": true
   },
   "source": [
    "<table>\n",
    "<th>Name</th><th>Description</th><th  width=\"50%\">Example</th>\n",
    "<tr>\n",
    "<td>Description</td><td>A brief description of the Weakness. Typically one to two sentances. Can also contain an Extended Description which goes into further detail. It should be noted that sometimes the extended description is shorter than the regular description but this is rarely the case</td><td><img src=\"images/Description.png\"></td>\n",
    "</tr>\n",
    "<tr>\n",
    "<td>Common_Consequences</td><td>A single sentence. There is also the scope which is a one or two word term as will as the technical impact which varies in format.</td><td><img src=\"images/Common_Consequences.png\"><br><img src=\"images/Common_Consequences2.PNG\"></td> \n",
    "</tr>\n",
    "<tr>\n",
    "<td>Potential_Mitigations</td><td> Describes how to prevent exploit at various steps in the development cycle. Typically a single sentence per phase and there can be a variable amount of phases</td><td><img src=\"images/Potential_Mitigations.png\"></td> \n",
    "</tr>\n",
    "<tr>\n",
    "<td>Demonstrative_Examples</td><td>Contains code pertaining to the weakness, but more importantly it can contain extremely detailed descriptions. The length is highly variable but the term density is high. The code is contained within an HTML tag however the notes by whoever wrote the article can be strucutred in a multitude of ways.</td><td><img src=\"images/Demonstrative_Example.png\"><br><img src=\"images/Demonstrative_Example2.png\"></td> \n",
    "</tr>\n",
    "</table>   "
   ]
  },
  {
   "cell_type": "markdown",
   "metadata": {
    "deletable": true,
    "editable": true
   },
   "source": [
    "### Fields That Might Be Useful Later"
   ]
  },
  {
   "cell_type": "markdown",
   "metadata": {},
   "source": [
    "The fields below have been determined to be useful at a later date. The following fields mostly deal with the entries relationships with other fields. Being able to incorperate relationships into the corpus will definitely improve the accuracy, but that functionality will be added at a later date. "
   ]
  },
  {
   "cell_type": "markdown",
   "metadata": {
    "deletable": true,
    "editable": true
   },
   "source": [
    "<table>\n",
    "<th>Name</th><th>Description</th><th width=\"50%\">Example</th>\n",
    "<tr>\n",
    "<td>Relationships</td><td>Lists other fields fields and relationship to said fields.</td><td><img src=\"images/Relationships.png\"></td>\n",
    "</tr>\n",
    "<tr>\n",
    "<td>Time_of_Introduction</td><td>Gives the stage(s) in the development cycle that this weakness can effect.</td><td><img src=\"images/Time_Of_Introduction.png\"></td>\n",
    "</tr>\n",
    "<tr>\n",
    "<td>Related_Attack_Patterns</td><td>Lists CAPEC entries that relate to topic.</td><td><img src=\"images/Related_Attack_Patterns.png\"></td>\n",
    "</tr>\n",
    "<tr>\n",
    "<td>Observed_Examples</td><td>References CVE entry. See CWE ID number 141</td><td><img src=\"images/Related_Attack_Patterns.png\"></td>\n",
    "</tr>\n",
    "<tr>\n",
    "<td>Taxonomy_Mappings</td><td>Alternative way to organize and understand the data.</td><td><img src=\"images/Taxonomy_Mappings.png\"></td>\n",
    "</tr>\n",
    "</table>   "
   ]
  },
  {
   "cell_type": "markdown",
   "metadata": {
    "deletable": true,
    "editable": true
   },
   "source": [
    "### Currently Discarded Fields"
   ]
  },
  {
   "cell_type": "markdown",
   "metadata": {},
   "source": [
    "The following fields have been determined to not be useful at the current time. Most of these fields do not contain enough information for example \"Likelyhood_of_Exploit\" or contain information that would not be useful to the corpus like \"References.\""
   ]
  },
  {
   "cell_type": "markdown",
   "metadata": {
    "deletable": true,
    "editable": true
   },
   "source": [
    "<table>\n",
    "<th>Name</th><th>Description</th><th width=\"50%\">Example</th>\n",
    "<tr>\n",
    "<td>Content_History</td><td>Shows original sumission date along with dates of modifications as well as other relevent data.</td><td><img src=\"images/Content_History.png\"></td>\n",
    "</tr>\n",
    "<tr>\n",
    "<td>Application_Platforms</td><td>Gives the languages that the weakness effects.</td><td><img src=\"images/Application_Platform.png\"></td>\n",
    "</tr>\n",
    "<tr>\n",
    "<td>References</td><td>References source(s) used.</td><td><img src=\"images/References.png\"></td>\n",
    "</tr>\n",
    "<tr>\n",
    "<td>Likelyhood_of_Exploit</td><td>Gives the chance that the weakness would be taken advantage of using. Typically rated from low to high. </td><td><img src=\"images/Likelyhood_of_Exploit.png\"></td>\n",
    "</tr>\n",
    "<tr>\n",
    "<td>Weakness_Ordinalities</td><td>Ask Carlos about this one.</td><td><img src=\"images/Weakness_Ordinalities.png\"></td>\n",
    "</tr>\n",
    "<tr>\n",
    "<td>Relationship_Notes</td><td>Gives notes about the relationship.</td><td><img src=\"images/Relationship_Notes.png\"></td>\n",
    "</tr>\n",
    "</table>   "
   ]
  },
  {
   "cell_type": "markdown",
   "metadata": {
    "deletable": true,
    "editable": true
   },
   "source": [
    "# Future Goals"
   ]
  },
  {
   "cell_type": "markdown",
   "metadata": {
    "deletable": true,
    "editable": true
   },
   "source": [
    "Now that we know which fields will be useful, we need to compare them in different ways. Four methods of comparison have been determined so far. They are specificity, subject, time, and purpose.\n",
    "\n",
    "The first way that we can compare indexes is by looking at their specificity. Entries can range from focusing on the specifics of a given weakness to broad concepts. If we were to compare two documents, we could use their specificity to see how similar the two documents are to one another. In MITRE’s CAPEC especially, specificity is strictly organized. These predetermined tier of specificity are a good litmus test to see if the program is accurately detecting specificity based on content. Being able to accurately measure specificity will ultimately make sure the similarity scores given to documents is more accurate. \n",
    "\n",
    "The second way that we can compare indexes is by looking at their subject. Conveniently for the indexes, the subject can be easily found by simply looking at the title. Comparing subjects is a quick way to determine how similar the indexes are to one another. By knowing that two subjects are related, the program will be able to more accurately categorize threats. Subject is also an important category for when the program moves to the email phase. Emails conveniently have a line for subject and using this line to its full advantage is key in developing this program.\n",
    "\n",
    "Time is the third way we can compare indexes. Languages are constantly evolving. As such looking at the way that people talk about a certain subject over time is an important dimension in developing a will rounded corpus for the program. For the indexes, looking at the way an article is changed version to version lets us get a more accurate mapping of how weaknesses are explored and understood. In emails this takes a more organic nature. While the indexes simply record the changes, the emails are the catalyst that drive these changes. By mapping out the way that topics evolve over time, we can create a more complete corpus and as such create a more accurate similarity score. \n",
    "\n",
    "The final way that we can compare indexes is by comparing similar fields. In MITRE fields have a specific rule set about the way that they are written and their contents. By comparing the same field in multiple indexes with one another we are able to slice the data in another way giving increasing the depth of the corpus and hopefully increasing the accuracy of the program. \n"
   ]
  },
  {
   "cell_type": "markdown",
   "metadata": {},
   "source": [
    "# Conclusion "
   ]
  },
  {
   "cell_type": "markdown",
   "metadata": {},
   "source": [
    "PERCEIVE is still in its infancy. As such, it is still a work in progress. However a lot was learned in the time that I worked on it. Having to reverse engineer the way that the indexes were formatted and organized was time consuming. However, with our new found understanding we will be better able to create the corpus in the future. Also our knowledge of how to slice up the indexes and emails has grown. For a program, reading the text is easy, however being able to understand what is written is a different matter. Being able to divide up the writings like we have done might seem natural, but being able to implement it into a learning program will prove to be difficult. \n"
   ]
  }
 ],
 "metadata": {
  "kernelspec": {
   "display_name": "Python 3",
   "language": "python",
   "name": "python3"
  },
  "language_info": {
   "codemirror_mode": {
    "name": "ipython",
    "version": 3
   },
   "file_extension": ".py",
   "mimetype": "text/x-python",
   "name": "python",
   "nbconvert_exporter": "python",
   "pygments_lexer": "ipython3",
   "version": "3.5.3"
  }
 },
 "nbformat": 4,
 "nbformat_minor": 2
}
